{
 "cells": [
  {
   "cell_type": "code",
   "execution_count": 46,
   "metadata": {},
   "outputs": [],
   "source": [
    "# import the package sciencedirectFlatFileParse\n",
    "from sciencedirectFlatFileParse import SD_FF_parse\n",
    "\n",
    "# get 4 types xml files\n",
    "fulltext_XML = r\".\\FourTypeSampleXML\\full-text.xml\"\n",
    "headandtail_XML = r\".\\FourTypeSampleXML\\head-and-tail.xml\"\n",
    "headonly_XML = r\".\\FourTypeSampleXML\\head-only.xml\"\n",
    "contentsEntryOnly_xml = r\".\\FourTypeSampleXML\\CONTENTS-ENTRY-ONLY.xml\""
   ]
  },
  {
   "cell_type": "markdown",
   "metadata": {},
   "source": [
    "## initiate Parser from the package"
   ]
  },
  {
   "cell_type": "code",
   "execution_count": 47,
   "metadata": {},
   "outputs": [],
   "source": [
    "Parser = SD_FF_parse()"
   ]
  },
  {
   "cell_type": "markdown",
   "metadata": {},
   "source": [
    "# Full Text"
   ]
  },
  {
   "cell_type": "code",
   "execution_count": 48,
   "metadata": {},
   "outputs": [
    {
     "data": {
      "text/plain": [
       "'FULL-TEXT'"
      ]
     },
     "execution_count": 48,
     "metadata": {},
     "output_type": "execute_result"
    }
   ],
   "source": [
    "Parser.get_xmlType(fulltext_XML)"
   ]
  },
  {
   "cell_type": "code",
   "execution_count": 49,
   "metadata": {},
   "outputs": [
    {
     "data": {
      "text/html": [
       "<div>\n",
       "<style scoped>\n",
       "    .dataframe tbody tr th:only-of-type {\n",
       "        vertical-align: middle;\n",
       "    }\n",
       "\n",
       "    .dataframe tbody tr th {\n",
       "        vertical-align: top;\n",
       "    }\n",
       "\n",
       "    .dataframe thead th {\n",
       "        text-align: right;\n",
       "    }\n",
       "</style>\n",
       "<table border=\"1\" class=\"dataframe\">\n",
       "  <thead>\n",
       "    <tr style=\"text-align: right;\">\n",
       "      <th></th>\n",
       "      <th>JournalTitle</th>\n",
       "      <th>JournalID</th>\n",
       "      <th>Issn</th>\n",
       "      <th>Volumn</th>\n",
       "      <th>Firstpage</th>\n",
       "      <th>Lastpage</th>\n",
       "    </tr>\n",
       "  </thead>\n",
       "  <tbody>\n",
       "    <tr>\n",
       "      <th>0</th>\n",
       "      <td>Perspectives in Ecology and Conservation</td>\n",
       "      <td>PECON</td>\n",
       "      <td>2530-0644</td>\n",
       "      <td>19</td>\n",
       "      <td>121</td>\n",
       "      <td>130</td>\n",
       "    </tr>\n",
       "  </tbody>\n",
       "</table>\n",
       "</div>"
      ],
      "text/plain": [
       "                               JournalTitle JournalID       Issn Volumn  \\\n",
       "0  Perspectives in Ecology and Conservation     PECON  2530-0644     19   \n",
       "\n",
       "  Firstpage Lastpage  \n",
       "0       121      130  "
      ]
     },
     "execution_count": 49,
     "metadata": {},
     "output_type": "execute_result"
    }
   ],
   "source": [
    "Parser.parse_source_info(fulltext_XML)"
   ]
  },
  {
   "cell_type": "code",
   "execution_count": 50,
   "metadata": {},
   "outputs": [
    {
     "data": {
      "text/html": [
       "<div>\n",
       "<style scoped>\n",
       "    .dataframe tbody tr th:only-of-type {\n",
       "        vertical-align: middle;\n",
       "    }\n",
       "\n",
       "    .dataframe tbody tr th {\n",
       "        vertical-align: top;\n",
       "    }\n",
       "\n",
       "    .dataframe thead th {\n",
       "        text-align: right;\n",
       "    }\n",
       "</style>\n",
       "<table border=\"1\" class=\"dataframe\">\n",
       "  <thead>\n",
       "    <tr style=\"text-align: right;\">\n",
       "      <th></th>\n",
       "      <th>PublicationDate</th>\n",
       "      <th>Doi</th>\n",
       "      <th>Pii</th>\n",
       "      <th>Eid</th>\n",
       "      <th>DocumentType</th>\n",
       "      <th>DocumentSubType</th>\n",
       "      <th>OpenAccess</th>\n",
       "      <th>License</th>\n",
       "      <th>FirstAuthorSurname</th>\n",
       "      <th>FirstAuthorInitial</th>\n",
       "      <th>ArticleID</th>\n",
       "      <th>copyright</th>\n",
       "      <th>Title</th>\n",
       "      <th>keywords</th>\n",
       "      <th>graphical_abstract</th>\n",
       "      <th>author_highlights</th>\n",
       "      <th>author_abstract</th>\n",
       "    </tr>\n",
       "  </thead>\n",
       "  <tbody>\n",
       "    <tr>\n",
       "      <th>0</th>\n",
       "      <td>April–June 2021</td>\n",
       "      <td>10.1016/j.pecon.2021.03.003</td>\n",
       "      <td>S2530-0644(21)00028-6</td>\n",
       "      <td>1-s2.0-S2530064421000286</td>\n",
       "      <td>article</td>\n",
       "      <td>rev</td>\n",
       "      <td>True</td>\n",
       "      <td>This is an open access article under the CC BY...</td>\n",
       "      <td>FONSECA</td>\n",
       "      <td>C</td>\n",
       "      <td>181</td>\n",
       "      <td>Associação Brasileira de Ciência Ecológica e C...</td>\n",
       "      <td>Conservation biology: four decades of problem-...</td>\n",
       "      <td>Biological invasion ; Climate change ; Habitat...</td>\n",
       "      <td>pii:S2530064421000286/fx1</td>\n",
       "      <td>•Conservation biology literature is dominated ...</td>\n",
       "      <td>Conservation biology is designed to identify p...</td>\n",
       "    </tr>\n",
       "  </tbody>\n",
       "</table>\n",
       "</div>"
      ],
      "text/plain": [
       "   PublicationDate                          Doi                    Pii  \\\n",
       "0  April–June 2021  10.1016/j.pecon.2021.03.003  S2530-0644(21)00028-6   \n",
       "\n",
       "                        Eid DocumentType DocumentSubType  OpenAccess  \\\n",
       "0  1-s2.0-S2530064421000286      article             rev        True   \n",
       "\n",
       "                                             License FirstAuthorSurname  \\\n",
       "0  This is an open access article under the CC BY...            FONSECA   \n",
       "\n",
       "  FirstAuthorInitial ArticleID  \\\n",
       "0                  C       181   \n",
       "\n",
       "                                           copyright  \\\n",
       "0  Associação Brasileira de Ciência Ecológica e C...   \n",
       "\n",
       "                                               Title  \\\n",
       "0  Conservation biology: four decades of problem-...   \n",
       "\n",
       "                                            keywords  \\\n",
       "0  Biological invasion ; Climate change ; Habitat...   \n",
       "\n",
       "          graphical_abstract  \\\n",
       "0  pii:S2530064421000286/fx1   \n",
       "\n",
       "                                   author_highlights  \\\n",
       "0  •Conservation biology literature is dominated ...   \n",
       "\n",
       "                                     author_abstract  \n",
       "0  Conservation biology is designed to identify p...  "
      ]
     },
     "execution_count": 50,
     "metadata": {},
     "output_type": "execute_result"
    }
   ],
   "source": [
    "Parser.parse_article_coreinfo(fulltext_XML)\n"
   ]
  },
  {
   "cell_type": "code",
   "execution_count": 51,
   "metadata": {},
   "outputs": [
    {
     "data": {
      "text/html": [
       "<div>\n",
       "<style scoped>\n",
       "    .dataframe tbody tr th:only-of-type {\n",
       "        vertical-align: middle;\n",
       "    }\n",
       "\n",
       "    .dataframe tbody tr th {\n",
       "        vertical-align: top;\n",
       "    }\n",
       "\n",
       "    .dataframe thead th {\n",
       "        text-align: right;\n",
       "    }\n",
       "</style>\n",
       "<table border=\"1\" class=\"dataframe\">\n",
       "  <thead>\n",
       "    <tr style=\"text-align: right;\">\n",
       "      <th></th>\n",
       "      <th>given_name</th>\n",
       "      <th>surname</th>\n",
       "      <th>email</th>\n",
       "      <th>affiliations</th>\n",
       "    </tr>\n",
       "  </thead>\n",
       "  <tbody>\n",
       "    <tr>\n",
       "      <th>0</th>\n",
       "      <td>Carlos Roberto</td>\n",
       "      <td>Fonseca</td>\n",
       "      <td>fonseca.crsd@gmail.com</td>\n",
       "      <td>[Departamento de Ecologia, Universidade Federa...</td>\n",
       "    </tr>\n",
       "    <tr>\n",
       "      <th>1</th>\n",
       "      <td>Gustavo B.</td>\n",
       "      <td>Paterno</td>\n",
       "      <td>None</td>\n",
       "      <td>[Departamento de Ecologia, Universidade Federa...</td>\n",
       "    </tr>\n",
       "    <tr>\n",
       "      <th>2</th>\n",
       "      <td>Demétrio L.</td>\n",
       "      <td>Guadagnin</td>\n",
       "      <td>None</td>\n",
       "      <td>[Departamento de Ecologia, Universidade Federa...</td>\n",
       "    </tr>\n",
       "    <tr>\n",
       "      <th>3</th>\n",
       "      <td>Eduardo M.</td>\n",
       "      <td>Venticinque</td>\n",
       "      <td>None</td>\n",
       "      <td>[Departamento de Ecologia, Universidade Federa...</td>\n",
       "    </tr>\n",
       "    <tr>\n",
       "      <th>4</th>\n",
       "      <td>Gerhard E.</td>\n",
       "      <td>Overbeck</td>\n",
       "      <td>None</td>\n",
       "      <td>[Departamento de Botânica, Universidade Federa...</td>\n",
       "    </tr>\n",
       "    <tr>\n",
       "      <th>5</th>\n",
       "      <td>Gislene</td>\n",
       "      <td>Ganade</td>\n",
       "      <td>None</td>\n",
       "      <td>[Departamento de Ecologia, Universidade Federa...</td>\n",
       "    </tr>\n",
       "    <tr>\n",
       "      <th>6</th>\n",
       "      <td>Jean Paul</td>\n",
       "      <td>Metzger</td>\n",
       "      <td>None</td>\n",
       "      <td>[Departamento de Ecologia, Universidade de São...</td>\n",
       "    </tr>\n",
       "    <tr>\n",
       "      <th>7</th>\n",
       "      <td>Johannes</td>\n",
       "      <td>Kollmann</td>\n",
       "      <td>None</td>\n",
       "      <td>[Department of Life Science Systems, School of...</td>\n",
       "    </tr>\n",
       "    <tr>\n",
       "      <th>8</th>\n",
       "      <td>Johannes</td>\n",
       "      <td>Sauer</td>\n",
       "      <td>None</td>\n",
       "      <td>[Department of Life Science Systems, School of...</td>\n",
       "    </tr>\n",
       "    <tr>\n",
       "      <th>9</th>\n",
       "      <td>Márcio Zikán</td>\n",
       "      <td>Cardoso</td>\n",
       "      <td>None</td>\n",
       "      <td>[Departamento de Ecologia, Universidade Federa...</td>\n",
       "    </tr>\n",
       "    <tr>\n",
       "      <th>10</th>\n",
       "      <td>Priscila F.M.</td>\n",
       "      <td>Lopes</td>\n",
       "      <td>None</td>\n",
       "      <td>[Departamento de Ecologia, Universidade Federa...</td>\n",
       "    </tr>\n",
       "    <tr>\n",
       "      <th>11</th>\n",
       "      <td>Rafael S.</td>\n",
       "      <td>Oliveira</td>\n",
       "      <td>None</td>\n",
       "      <td>[Departamento de Biologia Vegetal, Universidad...</td>\n",
       "    </tr>\n",
       "    <tr>\n",
       "      <th>12</th>\n",
       "      <td>Valério D.</td>\n",
       "      <td>Pillar</td>\n",
       "      <td>None</td>\n",
       "      <td>[Departamento de Ecologia, Universidade Federa...</td>\n",
       "    </tr>\n",
       "    <tr>\n",
       "      <th>13</th>\n",
       "      <td>Wolfgang W.</td>\n",
       "      <td>Weisser</td>\n",
       "      <td>None</td>\n",
       "      <td>[Department of Life Science Systems, School of...</td>\n",
       "    </tr>\n",
       "  </tbody>\n",
       "</table>\n",
       "</div>"
      ],
      "text/plain": [
       "        given_name      surname                   email  \\\n",
       "0   Carlos Roberto      Fonseca  fonseca.crsd@gmail.com   \n",
       "1       Gustavo B.      Paterno                    None   \n",
       "2      Demétrio L.    Guadagnin                    None   \n",
       "3       Eduardo M.  Venticinque                    None   \n",
       "4       Gerhard E.     Overbeck                    None   \n",
       "5          Gislene       Ganade                    None   \n",
       "6        Jean Paul      Metzger                    None   \n",
       "7         Johannes     Kollmann                    None   \n",
       "8         Johannes        Sauer                    None   \n",
       "9     Márcio Zikán      Cardoso                    None   \n",
       "10   Priscila F.M.        Lopes                    None   \n",
       "11       Rafael S.     Oliveira                    None   \n",
       "12      Valério D.       Pillar                    None   \n",
       "13     Wolfgang W.      Weisser                    None   \n",
       "\n",
       "                                         affiliations  \n",
       "0   [Departamento de Ecologia, Universidade Federa...  \n",
       "1   [Departamento de Ecologia, Universidade Federa...  \n",
       "2   [Departamento de Ecologia, Universidade Federa...  \n",
       "3   [Departamento de Ecologia, Universidade Federa...  \n",
       "4   [Departamento de Botânica, Universidade Federa...  \n",
       "5   [Departamento de Ecologia, Universidade Federa...  \n",
       "6   [Departamento de Ecologia, Universidade de São...  \n",
       "7   [Department of Life Science Systems, School of...  \n",
       "8   [Department of Life Science Systems, School of...  \n",
       "9   [Departamento de Ecologia, Universidade Federa...  \n",
       "10  [Departamento de Ecologia, Universidade Federa...  \n",
       "11  [Departamento de Biologia Vegetal, Universidad...  \n",
       "12  [Departamento de Ecologia, Universidade Federa...  \n",
       "13  [Department of Life Science Systems, School of...  "
      ]
     },
     "execution_count": 51,
     "metadata": {},
     "output_type": "execute_result"
    }
   ],
   "source": [
    "Parser.parse_authors_info(fulltext_XML)\n"
   ]
  },
  {
   "cell_type": "code",
   "execution_count": 52,
   "metadata": {},
   "outputs": [
    {
     "data": {
      "text/html": [
       "<div>\n",
       "<style scoped>\n",
       "    .dataframe tbody tr th:only-of-type {\n",
       "        vertical-align: middle;\n",
       "    }\n",
       "\n",
       "    .dataframe tbody tr th {\n",
       "        vertical-align: top;\n",
       "    }\n",
       "\n",
       "    .dataframe thead th {\n",
       "        text-align: right;\n",
       "    }\n",
       "</style>\n",
       "<table border=\"1\" class=\"dataframe\">\n",
       "  <thead>\n",
       "    <tr style=\"text-align: right;\">\n",
       "      <th></th>\n",
       "      <th>id</th>\n",
       "      <th>label</th>\n",
       "      <th>caption</th>\n",
       "      <th>link</th>\n",
       "    </tr>\n",
       "  </thead>\n",
       "  <tbody>\n",
       "    <tr>\n",
       "      <th>0</th>\n",
       "      <td>fig0005</td>\n",
       "      <td>Fig. 1</td>\n",
       "      <td>Frequency of solution-based research (black ba...</td>\n",
       "      <td>pii:S2530064421000286/gr1</td>\n",
       "    </tr>\n",
       "    <tr>\n",
       "      <th>1</th>\n",
       "      <td>fig0010</td>\n",
       "      <td>Fig. 2</td>\n",
       "      <td>Logistic regression analyses showing the proba...</td>\n",
       "      <td>pii:S2530064421000286/gr2</td>\n",
       "    </tr>\n",
       "    <tr>\n",
       "      <th>2</th>\n",
       "      <td>fig0015</td>\n",
       "      <td>Fig. 3</td>\n",
       "      <td>Relative use of the word &lt;i&gt;solution&lt;/i&gt; and &lt;...</td>\n",
       "      <td>pii:S2530064421000286/gr3</td>\n",
       "    </tr>\n",
       "    <tr>\n",
       "      <th>3</th>\n",
       "      <td>fig0020</td>\n",
       "      <td>None</td>\n",
       "      <td>None</td>\n",
       "      <td>pii:S2530064421000286/fx1</td>\n",
       "    </tr>\n",
       "  </tbody>\n",
       "</table>\n",
       "</div>"
      ],
      "text/plain": [
       "        id   label                                            caption  \\\n",
       "0  fig0005  Fig. 1  Frequency of solution-based research (black ba...   \n",
       "1  fig0010  Fig. 2  Logistic regression analyses showing the proba...   \n",
       "2  fig0015  Fig. 3  Relative use of the word <i>solution</i> and <...   \n",
       "3  fig0020    None                                               None   \n",
       "\n",
       "                        link  \n",
       "0  pii:S2530064421000286/gr1  \n",
       "1  pii:S2530064421000286/gr2  \n",
       "2  pii:S2530064421000286/gr3  \n",
       "3  pii:S2530064421000286/fx1  "
      ]
     },
     "execution_count": 52,
     "metadata": {},
     "output_type": "execute_result"
    }
   ],
   "source": [
    "Parser.parse_figures_info(fulltext_XML)\n"
   ]
  },
  {
   "cell_type": "code",
   "execution_count": 53,
   "metadata": {},
   "outputs": [
    {
     "data": {
      "text/plain": [
       "[{'id': 'tbl0005',\n",
       "  'label': 'Table 1',\n",
       "  'caption': 'Illustrative examples of problem- or solution-based conservation research addressing five biodiversity loss drivers.',\n",
       "  'headers': [['Biodiversity loss driver', 'Problem-based', 'Solution-based']],\n",
       "  'rows': [['Habitat loss',\n",
       "    'Estimate rates of habitat lossEvaluate alternative landscape metricsDescribe population declinesRecord species extinction',\n",
       "    'Plan sustainable landscapesEstablish corridors for connectivityTest agroforestry modelsRestore ecosystems'],\n",
       "   [''],\n",
       "   ['Biological invasion',\n",
       "    'Estimate invasive potentialEvaluate susceptibility to invasionPredict areas to be invadedEvaluate impact on communities and ecosystems',\n",
       "    'Establish prevention agreementsControl invasive populationsIncrement community resilienceMitigate effects'],\n",
       "   [''],\n",
       "   ['Overexploitation',\n",
       "    'Describe population declineEvaluate by-catchEstimate cascading effectsPredict extinction risk',\n",
       "    'Implement population managementEstablish social agreementsTest market economic toolsDe-extinction'],\n",
       "   [''],\n",
       "   ['Pollution',\n",
       "    'Describe pollutant concentrationEvaluate effect on physiologyEvaluate community alterationDescribe bio-magnification',\n",
       "    'Test phytoremediation measuresPromote pollutant stabilizationPromote pollutant extractionStimulate degradation or volatilization'],\n",
       "   [''],\n",
       "   ['Climate change',\n",
       "    'Predict climate alterationsPredict changes in species distributionDescribe population declinePredict alterations in ecosystem services',\n",
       "    'Evaluate effects of agreementsEstablish migration corridorsPromote carbon captureEstablish adaptation measures']]},\n",
       " {'id': 'tbl0010',\n",
       "  'label': 'Table 2',\n",
       "  'caption': 'Temporal trend on the probability of solution-based papers along four decades of the conservation biology literature and its biodiversity loss drivers. The slopes (β) and their standard error (SE), effect size (z), and associated probability (P) were produced by logistic regression assuming solution-based papers as 1 and problem-based papers as 0.',\n",
       "  'headers': [['Research field', 'β', 'SE', 'z', 'p']],\n",
       "  'rows': [['Conservation biology', '0.0179', '0.0091', '1.98', '0.048'],\n",
       "   ['Drivers'],\n",
       "   ['Overexploitation', '0.0374', '0.0183', '2.04', '0.041'],\n",
       "   ['Habitat loss and fragmentation', '0.0356', '0.0195', '1.83', '0.068'],\n",
       "   ['Biological invasion', '0.0318', '0.0233', '1.36', '0.173'],\n",
       "   ['Pollution', '−0.0112', '0.0180', '0.63', '0.532'],\n",
       "   ['Climate change', '0.0069', '0.0301', '0.23', '0.820']]}]"
      ]
     },
     "execution_count": 53,
     "metadata": {},
     "output_type": "execute_result"
    }
   ],
   "source": [
    "Parser.parse_tables_info(fulltext_XML)\n"
   ]
  },
  {
   "cell_type": "code",
   "execution_count": 54,
   "metadata": {},
   "outputs": [
    {
     "data": {
      "text/html": [
       "<div>\n",
       "<style scoped>\n",
       "    .dataframe tbody tr th:only-of-type {\n",
       "        vertical-align: middle;\n",
       "    }\n",
       "\n",
       "    .dataframe tbody tr th {\n",
       "        vertical-align: top;\n",
       "    }\n",
       "\n",
       "    .dataframe thead th {\n",
       "        text-align: right;\n",
       "    }\n",
       "</style>\n",
       "<table border=\"1\" class=\"dataframe\">\n",
       "  <thead>\n",
       "    <tr style=\"text-align: right;\">\n",
       "      <th></th>\n",
       "      <th>label</th>\n",
       "      <th>authors</th>\n",
       "      <th>title</th>\n",
       "      <th>journal</th>\n",
       "      <th>year</th>\n",
       "      <th>pages</th>\n",
       "    </tr>\n",
       "  </thead>\n",
       "  <tbody>\n",
       "    <tr>\n",
       "      <th>0</th>\n",
       "      <td>Aizen and Feinsinger, 1994</td>\n",
       "      <td>[M.A. Aizen, P. Feinsinger]</td>\n",
       "      <td>Forest fragmentation, pollination, and plant r...</td>\n",
       "      <td>Ecology</td>\n",
       "      <td>1994</td>\n",
       "      <td>330-351</td>\n",
       "    </tr>\n",
       "    <tr>\n",
       "      <th>1</th>\n",
       "      <td>Andersson and Bodin, 2009</td>\n",
       "      <td>[E. Andersson, O. Bodin]</td>\n",
       "      <td>Practical tool for landscape planning? An empi...</td>\n",
       "      <td>Ecography</td>\n",
       "      <td>2009</td>\n",
       "      <td>123132-</td>\n",
       "    </tr>\n",
       "    <tr>\n",
       "      <th>2</th>\n",
       "      <td>Balmford, 2017</td>\n",
       "      <td>[A. Balmford]</td>\n",
       "      <td>On positive shifting baselines and the importa...</td>\n",
       "      <td>Oryx</td>\n",
       "      <td>2017</td>\n",
       "      <td>191-192</td>\n",
       "    </tr>\n",
       "    <tr>\n",
       "      <th>3</th>\n",
       "      <td>Balmford and Knowlton, 2017</td>\n",
       "      <td>[A. Balmford, N. Knowlton]</td>\n",
       "      <td>Why Earth Optimism?</td>\n",
       "      <td>Science</td>\n",
       "      <td>2017</td>\n",
       "      <td>225-</td>\n",
       "    </tr>\n",
       "    <tr>\n",
       "      <th>4</th>\n",
       "      <td>Beever, 2000</td>\n",
       "      <td>[E. Beever]</td>\n",
       "      <td>Diversity: the roles of optimism in conservati...</td>\n",
       "      <td>Conserv. Biol.</td>\n",
       "      <td>2000</td>\n",
       "      <td>907-909</td>\n",
       "    </tr>\n",
       "    <tr>\n",
       "      <th>...</th>\n",
       "      <td>...</td>\n",
       "      <td>...</td>\n",
       "      <td>...</td>\n",
       "      <td>...</td>\n",
       "      <td>...</td>\n",
       "      <td>...</td>\n",
       "    </tr>\n",
       "    <tr>\n",
       "      <th>80</th>\n",
       "      <td>Wang et al., 2014</td>\n",
       "      <td>[X.L. Wang, F.G. Blanchet, N. Koper]</td>\n",
       "      <td>Measuring habitat fragmentation: an evaluation...</td>\n",
       "      <td>Methods Ecol. Evol.</td>\n",
       "      <td>2014</td>\n",
       "      <td>634-646</td>\n",
       "    </tr>\n",
       "    <tr>\n",
       "      <th>81</th>\n",
       "      <td>Weisser et al., 2017</td>\n",
       "      <td>[W.W. Weisser, C. Roscher, S.T. Meyer, A. Ebel...</td>\n",
       "      <td>Biodiversity effects on ecosystem functioning ...</td>\n",
       "      <td>Basic Appl. Ecol.</td>\n",
       "      <td>2017</td>\n",
       "      <td>1-73</td>\n",
       "    </tr>\n",
       "    <tr>\n",
       "      <th>82</th>\n",
       "      <td>Williams et al., 2020</td>\n",
       "      <td>[D.R. Williams, A. Balmford, D.S. Wilcove]</td>\n",
       "      <td>The past and future role of conservation scien...</td>\n",
       "      <td>Ecol. Lett.</td>\n",
       "      <td>2020</td>\n",
       "      <td>None</td>\n",
       "    </tr>\n",
       "    <tr>\n",
       "      <th>83</th>\n",
       "      <td>Wilson, 1988</td>\n",
       "      <td>[E.O. Wilson]</td>\n",
       "      <td>Biodiversity</td>\n",
       "      <td>None</td>\n",
       "      <td>1988</td>\n",
       "      <td>None</td>\n",
       "    </tr>\n",
       "    <tr>\n",
       "      <th>84</th>\n",
       "      <td>Young, 2000</td>\n",
       "      <td>[T.P. Young]</td>\n",
       "      <td>Restoration ecology and conservation biology</td>\n",
       "      <td>Biol. Conserv.</td>\n",
       "      <td>2000</td>\n",
       "      <td>73-83</td>\n",
       "    </tr>\n",
       "  </tbody>\n",
       "</table>\n",
       "<p>85 rows × 6 columns</p>\n",
       "</div>"
      ],
      "text/plain": [
       "                          label  \\\n",
       "0    Aizen and Feinsinger, 1994   \n",
       "1     Andersson and Bodin, 2009   \n",
       "2                Balmford, 2017   \n",
       "3   Balmford and Knowlton, 2017   \n",
       "4                  Beever, 2000   \n",
       "..                          ...   \n",
       "80            Wang et al., 2014   \n",
       "81         Weisser et al., 2017   \n",
       "82        Williams et al., 2020   \n",
       "83                 Wilson, 1988   \n",
       "84                  Young, 2000   \n",
       "\n",
       "                                              authors  \\\n",
       "0                         [M.A. Aizen, P. Feinsinger]   \n",
       "1                            [E. Andersson, O. Bodin]   \n",
       "2                                       [A. Balmford]   \n",
       "3                          [A. Balmford, N. Knowlton]   \n",
       "4                                         [E. Beever]   \n",
       "..                                                ...   \n",
       "80               [X.L. Wang, F.G. Blanchet, N. Koper]   \n",
       "81  [W.W. Weisser, C. Roscher, S.T. Meyer, A. Ebel...   \n",
       "82         [D.R. Williams, A. Balmford, D.S. Wilcove]   \n",
       "83                                      [E.O. Wilson]   \n",
       "84                                       [T.P. Young]   \n",
       "\n",
       "                                                title              journal  \\\n",
       "0   Forest fragmentation, pollination, and plant r...              Ecology   \n",
       "1   Practical tool for landscape planning? An empi...            Ecography   \n",
       "2   On positive shifting baselines and the importa...                 Oryx   \n",
       "3                                 Why Earth Optimism?              Science   \n",
       "4   Diversity: the roles of optimism in conservati...       Conserv. Biol.   \n",
       "..                                                ...                  ...   \n",
       "80  Measuring habitat fragmentation: an evaluation...  Methods Ecol. Evol.   \n",
       "81  Biodiversity effects on ecosystem functioning ...    Basic Appl. Ecol.   \n",
       "82  The past and future role of conservation scien...          Ecol. Lett.   \n",
       "83                                       Biodiversity                 None   \n",
       "84       Restoration ecology and conservation biology       Biol. Conserv.   \n",
       "\n",
       "    year    pages  \n",
       "0   1994  330-351  \n",
       "1   2009  123132-  \n",
       "2   2017  191-192  \n",
       "3   2017     225-  \n",
       "4   2000  907-909  \n",
       "..   ...      ...  \n",
       "80  2014  634-646  \n",
       "81  2017     1-73  \n",
       "82  2020     None  \n",
       "83  1988     None  \n",
       "84  2000    73-83  \n",
       "\n",
       "[85 rows x 6 columns]"
      ]
     },
     "execution_count": 54,
     "metadata": {},
     "output_type": "execute_result"
    }
   ],
   "source": [
    "Parser.parse_references_info(fulltext_XML)\n"
   ]
  },
  {
   "cell_type": "code",
   "execution_count": 55,
   "metadata": {},
   "outputs": [
    {
     "data": {
      "text/html": [
       "<div>\n",
       "<style scoped>\n",
       "    .dataframe tbody tr th:only-of-type {\n",
       "        vertical-align: middle;\n",
       "    }\n",
       "\n",
       "    .dataframe tbody tr th {\n",
       "        vertical-align: top;\n",
       "    }\n",
       "\n",
       "    .dataframe thead th {\n",
       "        text-align: right;\n",
       "    }\n",
       "</style>\n",
       "<table border=\"1\" class=\"dataframe\">\n",
       "  <thead>\n",
       "    <tr style=\"text-align: right;\">\n",
       "      <th></th>\n",
       "      <th>eid</th>\n",
       "      <th>url</th>\n",
       "      <th>filename</th>\n",
       "      <th>filetype</th>\n",
       "      <th>filesize</th>\n",
       "      <th>attachment_type</th>\n",
       "    </tr>\n",
       "  </thead>\n",
       "  <tbody>\n",
       "    <tr>\n",
       "      <th>0</th>\n",
       "      <td>1-s2.0-S2530064421000286-fx1.jpg</td>\n",
       "      <td>https://s3-eu-west-1.amazonaws.com/prod-ucs-co...</td>\n",
       "      <td>fx1.jpg</td>\n",
       "      <td>jpg</td>\n",
       "      <td>10057</td>\n",
       "      <td>IMAGE-DOWNSAMPLED</td>\n",
       "    </tr>\n",
       "    <tr>\n",
       "      <th>1</th>\n",
       "      <td>1-s2.0-S2530064421000286-gr1.jpg</td>\n",
       "      <td>https://s3-eu-west-1.amazonaws.com/prod-ucs-co...</td>\n",
       "      <td>gr1.jpg</td>\n",
       "      <td>jpg</td>\n",
       "      <td>16080</td>\n",
       "      <td>IMAGE-DOWNSAMPLED</td>\n",
       "    </tr>\n",
       "    <tr>\n",
       "      <th>2</th>\n",
       "      <td>1-s2.0-S2530064421000286-gr2.jpg</td>\n",
       "      <td>https://s3-eu-west-1.amazonaws.com/prod-ucs-co...</td>\n",
       "      <td>gr2.jpg</td>\n",
       "      <td>jpg</td>\n",
       "      <td>95200</td>\n",
       "      <td>IMAGE-DOWNSAMPLED</td>\n",
       "    </tr>\n",
       "    <tr>\n",
       "      <th>3</th>\n",
       "      <td>1-s2.0-S2530064421000286-gr3.jpg</td>\n",
       "      <td>https://s3-eu-west-1.amazonaws.com/prod-ucs-co...</td>\n",
       "      <td>gr3.jpg</td>\n",
       "      <td>jpg</td>\n",
       "      <td>91951</td>\n",
       "      <td>IMAGE-DOWNSAMPLED</td>\n",
       "    </tr>\n",
       "    <tr>\n",
       "      <th>4</th>\n",
       "      <td>1-s2.0-S2530064421000286-fx1.sml</td>\n",
       "      <td>https://s3-eu-west-1.amazonaws.com/prod-ucs-co...</td>\n",
       "      <td>fx1.sml</td>\n",
       "      <td>sml</td>\n",
       "      <td>4832</td>\n",
       "      <td>IMAGE-THUMBNAIL</td>\n",
       "    </tr>\n",
       "    <tr>\n",
       "      <th>5</th>\n",
       "      <td>1-s2.0-S2530064421000286-gr1.sml</td>\n",
       "      <td>https://s3-eu-west-1.amazonaws.com/prod-ucs-co...</td>\n",
       "      <td>gr1.sml</td>\n",
       "      <td>sml</td>\n",
       "      <td>7339</td>\n",
       "      <td>IMAGE-THUMBNAIL</td>\n",
       "    </tr>\n",
       "    <tr>\n",
       "      <th>6</th>\n",
       "      <td>1-s2.0-S2530064421000286-gr2.sml</td>\n",
       "      <td>https://s3-eu-west-1.amazonaws.com/prod-ucs-co...</td>\n",
       "      <td>gr2.sml</td>\n",
       "      <td>sml</td>\n",
       "      <td>9309</td>\n",
       "      <td>IMAGE-THUMBNAIL</td>\n",
       "    </tr>\n",
       "    <tr>\n",
       "      <th>7</th>\n",
       "      <td>1-s2.0-S2530064421000286-gr3.sml</td>\n",
       "      <td>https://s3-eu-west-1.amazonaws.com/prod-ucs-co...</td>\n",
       "      <td>gr3.sml</td>\n",
       "      <td>sml</td>\n",
       "      <td>4821</td>\n",
       "      <td>IMAGE-THUMBNAIL</td>\n",
       "    </tr>\n",
       "    <tr>\n",
       "      <th>8</th>\n",
       "      <td>1-s2.0-S2530064421000286-mmc1.docx</td>\n",
       "      <td>https://s3-eu-west-1.amazonaws.com/prod-ucs-co...</td>\n",
       "      <td>mmc1.docx</td>\n",
       "      <td>docx</td>\n",
       "      <td>582093</td>\n",
       "      <td>APPLICATION</td>\n",
       "    </tr>\n",
       "    <tr>\n",
       "      <th>9</th>\n",
       "      <td>1-s2.0-S2530064421000286-am.pdf</td>\n",
       "      <td>https://s3-eu-west-1.amazonaws.com/prod-ucs-co...</td>\n",
       "      <td>am.pdf</td>\n",
       "      <td>pdf</td>\n",
       "      <td>1164704</td>\n",
       "      <td>AAM-PDF</td>\n",
       "    </tr>\n",
       "  </tbody>\n",
       "</table>\n",
       "</div>"
      ],
      "text/plain": [
       "                                  eid  \\\n",
       "0    1-s2.0-S2530064421000286-fx1.jpg   \n",
       "1    1-s2.0-S2530064421000286-gr1.jpg   \n",
       "2    1-s2.0-S2530064421000286-gr2.jpg   \n",
       "3    1-s2.0-S2530064421000286-gr3.jpg   \n",
       "4    1-s2.0-S2530064421000286-fx1.sml   \n",
       "5    1-s2.0-S2530064421000286-gr1.sml   \n",
       "6    1-s2.0-S2530064421000286-gr2.sml   \n",
       "7    1-s2.0-S2530064421000286-gr3.sml   \n",
       "8  1-s2.0-S2530064421000286-mmc1.docx   \n",
       "9     1-s2.0-S2530064421000286-am.pdf   \n",
       "\n",
       "                                                 url   filename filetype  \\\n",
       "0  https://s3-eu-west-1.amazonaws.com/prod-ucs-co...    fx1.jpg      jpg   \n",
       "1  https://s3-eu-west-1.amazonaws.com/prod-ucs-co...    gr1.jpg      jpg   \n",
       "2  https://s3-eu-west-1.amazonaws.com/prod-ucs-co...    gr2.jpg      jpg   \n",
       "3  https://s3-eu-west-1.amazonaws.com/prod-ucs-co...    gr3.jpg      jpg   \n",
       "4  https://s3-eu-west-1.amazonaws.com/prod-ucs-co...    fx1.sml      sml   \n",
       "5  https://s3-eu-west-1.amazonaws.com/prod-ucs-co...    gr1.sml      sml   \n",
       "6  https://s3-eu-west-1.amazonaws.com/prod-ucs-co...    gr2.sml      sml   \n",
       "7  https://s3-eu-west-1.amazonaws.com/prod-ucs-co...    gr3.sml      sml   \n",
       "8  https://s3-eu-west-1.amazonaws.com/prod-ucs-co...  mmc1.docx     docx   \n",
       "9  https://s3-eu-west-1.amazonaws.com/prod-ucs-co...     am.pdf      pdf   \n",
       "\n",
       "   filesize    attachment_type  \n",
       "0     10057  IMAGE-DOWNSAMPLED  \n",
       "1     16080  IMAGE-DOWNSAMPLED  \n",
       "2     95200  IMAGE-DOWNSAMPLED  \n",
       "3     91951  IMAGE-DOWNSAMPLED  \n",
       "4      4832    IMAGE-THUMBNAIL  \n",
       "5      7339    IMAGE-THUMBNAIL  \n",
       "6      9309    IMAGE-THUMBNAIL  \n",
       "7      4821    IMAGE-THUMBNAIL  \n",
       "8    582093        APPLICATION  \n",
       "9   1164704            AAM-PDF  "
      ]
     },
     "execution_count": 55,
     "metadata": {},
     "output_type": "execute_result"
    }
   ],
   "source": [
    "Parser.parse_allAttachment_info(fulltext_XML)\n"
   ]
  },
  {
   "cell_type": "code",
   "execution_count": 56,
   "metadata": {},
   "outputs": [
    {
     "data": {
      "text/html": [
       "<div>\n",
       "<style scoped>\n",
       "    .dataframe tbody tr th:only-of-type {\n",
       "        vertical-align: middle;\n",
       "    }\n",
       "\n",
       "    .dataframe tbody tr th {\n",
       "        vertical-align: top;\n",
       "    }\n",
       "\n",
       "    .dataframe thead th {\n",
       "        text-align: right;\n",
       "    }\n",
       "</style>\n",
       "<table border=\"1\" class=\"dataframe\">\n",
       "  <thead>\n",
       "    <tr style=\"text-align: right;\">\n",
       "      <th></th>\n",
       "      <th>eid</th>\n",
       "      <th>url</th>\n",
       "      <th>filename</th>\n",
       "      <th>filetype</th>\n",
       "      <th>filesize</th>\n",
       "    </tr>\n",
       "  </thead>\n",
       "  <tbody>\n",
       "    <tr>\n",
       "      <th>0</th>\n",
       "      <td>1-s2.0-S2530064421000286-main.pdf</td>\n",
       "      <td>https://s3-eu-west-1.amazonaws.com/prod-ucs-co...</td>\n",
       "      <td>main.pdf</td>\n",
       "      <td>pdf</td>\n",
       "      <td>1876833</td>\n",
       "    </tr>\n",
       "  </tbody>\n",
       "</table>\n",
       "</div>"
      ],
      "text/plain": [
       "                                 eid  \\\n",
       "0  1-s2.0-S2530064421000286-main.pdf   \n",
       "\n",
       "                                                 url  filename filetype  \\\n",
       "0  https://s3-eu-west-1.amazonaws.com/prod-ucs-co...  main.pdf      pdf   \n",
       "\n",
       "   filesize  \n",
       "0   1876833  "
      ]
     },
     "execution_count": 56,
     "metadata": {},
     "output_type": "execute_result"
    }
   ],
   "source": [
    "Parser.parse_webfulltextPDF(fulltext_XML)\n"
   ]
  },
  {
   "cell_type": "code",
   "execution_count": 57,
   "metadata": {},
   "outputs": [
    {
     "data": {
      "text/html": [
       "<div>\n",
       "<style scoped>\n",
       "    .dataframe tbody tr th:only-of-type {\n",
       "        vertical-align: middle;\n",
       "    }\n",
       "\n",
       "    .dataframe tbody tr th {\n",
       "        vertical-align: top;\n",
       "    }\n",
       "\n",
       "    .dataframe thead th {\n",
       "        text-align: right;\n",
       "    }\n",
       "</style>\n",
       "<table border=\"1\" class=\"dataframe\">\n",
       "  <thead>\n",
       "    <tr style=\"text-align: right;\">\n",
       "      <th></th>\n",
       "      <th>eid</th>\n",
       "      <th>url</th>\n",
       "      <th>filename</th>\n",
       "      <th>filetype</th>\n",
       "      <th>filesize</th>\n",
       "    </tr>\n",
       "  </thead>\n",
       "  <tbody>\n",
       "    <tr>\n",
       "      <th>0</th>\n",
       "      <td>1-s2.0-S2530064421000286-main_1.png</td>\n",
       "      <td>https://s3-eu-west-1.amazonaws.com/prod-ucs-co...</td>\n",
       "      <td>main_1.png</td>\n",
       "      <td>png</td>\n",
       "      <td>52999</td>\n",
       "    </tr>\n",
       "  </tbody>\n",
       "</table>\n",
       "</div>"
      ],
      "text/plain": [
       "                                   eid  \\\n",
       "0  1-s2.0-S2530064421000286-main_1.png   \n",
       "\n",
       "                                                 url    filename filetype  \\\n",
       "0  https://s3-eu-west-1.amazonaws.com/prod-ucs-co...  main_1.png      png   \n",
       "\n",
       "   filesize  \n",
       "0     52999  "
      ]
     },
     "execution_count": 57,
     "metadata": {},
     "output_type": "execute_result"
    }
   ],
   "source": [
    "Parser.parse_webfulltextIMG(fulltext_XML)\n"
   ]
  },
  {
   "cell_type": "code",
   "execution_count": 58,
   "metadata": {},
   "outputs": [
    {
     "data": {
      "text/html": [
       "<div>\n",
       "<style scoped>\n",
       "    .dataframe tbody tr th:only-of-type {\n",
       "        vertical-align: middle;\n",
       "    }\n",
       "\n",
       "    .dataframe tbody tr th {\n",
       "        vertical-align: top;\n",
       "    }\n",
       "\n",
       "    .dataframe thead th {\n",
       "        text-align: right;\n",
       "    }\n",
       "</style>\n",
       "<table border=\"1\" class=\"dataframe\">\n",
       "  <thead>\n",
       "    <tr style=\"text-align: right;\">\n",
       "      <th></th>\n",
       "      <th>agency</th>\n",
       "      <th>funding_id</th>\n",
       "      <th>agency_acronym</th>\n",
       "      <th>funding-agency</th>\n",
       "      <th>funding-agency-id</th>\n",
       "      <th>funding-agency-country</th>\n",
       "    </tr>\n",
       "  </thead>\n",
       "  <tbody>\n",
       "    <tr>\n",
       "      <th>0</th>\n",
       "      <td>European Commission</td>\n",
       "      <td>None</td>\n",
       "      <td>EC</td>\n",
       "      <td>European Commission</td>\n",
       "      <td>http://data.elsevier.com/vocabulary/SciValFund...</td>\n",
       "      <td>http://sws.geonames.org/6695072/</td>\n",
       "    </tr>\n",
       "    <tr>\n",
       "      <th>1</th>\n",
       "      <td>International Union for Conservation of Nature</td>\n",
       "      <td>None</td>\n",
       "      <td>None</td>\n",
       "      <td>None</td>\n",
       "      <td>None</td>\n",
       "      <td>None</td>\n",
       "    </tr>\n",
       "    <tr>\n",
       "      <th>2</th>\n",
       "      <td>Deutscher Akademischer Austauschdienst</td>\n",
       "      <td>54417975</td>\n",
       "      <td>DAAD</td>\n",
       "      <td>Deutscher Akademischer Austauschdienst</td>\n",
       "      <td>http://data.elsevier.com/vocabulary/SciValFund...</td>\n",
       "      <td>http://sws.geonames.org/2921044/</td>\n",
       "    </tr>\n",
       "    <tr>\n",
       "      <th>3</th>\n",
       "      <td>PROEXT</td>\n",
       "      <td>None</td>\n",
       "      <td>None</td>\n",
       "      <td>None</td>\n",
       "      <td>None</td>\n",
       "      <td>None</td>\n",
       "    </tr>\n",
       "    <tr>\n",
       "      <th>4</th>\n",
       "      <td>Deutsche Forschungsgemeinschaft</td>\n",
       "      <td>None</td>\n",
       "      <td>DFG</td>\n",
       "      <td>Deutsche Forschungsgemeinschaft</td>\n",
       "      <td>http://data.elsevier.com/vocabulary/SciValFund...</td>\n",
       "      <td>http://sws.geonames.org/2921044/</td>\n",
       "    </tr>\n",
       "    <tr>\n",
       "      <th>5</th>\n",
       "      <td>Coordenação de Aperfeiçoamento de Pessoal de N...</td>\n",
       "      <td>WE 3081/20</td>\n",
       "      <td>CAPES</td>\n",
       "      <td>Coordenação de Aperfeiçoamento de Pessoal de N...</td>\n",
       "      <td>http://data.elsevier.com/vocabulary/SciValFund...</td>\n",
       "      <td>http://sws.geonames.org/3469034/</td>\n",
       "    </tr>\n",
       "    <tr>\n",
       "      <th>6</th>\n",
       "      <td>Conselho Nacional de Desenvolvimento Científic...</td>\n",
       "      <td>None</td>\n",
       "      <td>CNPq</td>\n",
       "      <td>Conselho Nacional de Desenvolvimento Científic...</td>\n",
       "      <td>http://data.elsevier.com/vocabulary/SciValFund...</td>\n",
       "      <td>http://sws.geonames.org/3469034/</td>\n",
       "    </tr>\n",
       "    <tr>\n",
       "      <th>7</th>\n",
       "      <td>Horizon 2020 Framework Programme</td>\n",
       "      <td>None</td>\n",
       "      <td>H2020</td>\n",
       "      <td>Horizon 2020 Framework Programme</td>\n",
       "      <td>http://data.elsevier.com/vocabulary/SciValFund...</td>\n",
       "      <td>http://sws.geonames.org/6695072/</td>\n",
       "    </tr>\n",
       "    <tr>\n",
       "      <th>8</th>\n",
       "      <td>Universidade Federal do Rio Grande do Norte</td>\n",
       "      <td>None</td>\n",
       "      <td>UFRN</td>\n",
       "      <td>Universidade Federal do Rio Grande do Norte</td>\n",
       "      <td>http://data.elsevier.com/vocabulary/SciValFund...</td>\n",
       "      <td>http://sws.geonames.org/3469034/</td>\n",
       "    </tr>\n",
       "  </tbody>\n",
       "</table>\n",
       "</div>"
      ],
      "text/plain": [
       "                                              agency  funding_id  \\\n",
       "0                                European Commission        None   \n",
       "1     International Union for Conservation of Nature        None   \n",
       "2             Deutscher Akademischer Austauschdienst    54417975   \n",
       "3                                             PROEXT        None   \n",
       "4                    Deutsche Forschungsgemeinschaft        None   \n",
       "5  Coordenação de Aperfeiçoamento de Pessoal de N...  WE 3081/20   \n",
       "6  Conselho Nacional de Desenvolvimento Científic...        None   \n",
       "7                   Horizon 2020 Framework Programme        None   \n",
       "8        Universidade Federal do Rio Grande do Norte        None   \n",
       "\n",
       "  agency_acronym                                     funding-agency  \\\n",
       "0             EC                                European Commission   \n",
       "1           None                                               None   \n",
       "2           DAAD             Deutscher Akademischer Austauschdienst   \n",
       "3           None                                               None   \n",
       "4            DFG                    Deutsche Forschungsgemeinschaft   \n",
       "5          CAPES  Coordenação de Aperfeiçoamento de Pessoal de N...   \n",
       "6           CNPq  Conselho Nacional de Desenvolvimento Científic...   \n",
       "7          H2020                   Horizon 2020 Framework Programme   \n",
       "8           UFRN        Universidade Federal do Rio Grande do Norte   \n",
       "\n",
       "                                   funding-agency-id  \\\n",
       "0  http://data.elsevier.com/vocabulary/SciValFund...   \n",
       "1                                               None   \n",
       "2  http://data.elsevier.com/vocabulary/SciValFund...   \n",
       "3                                               None   \n",
       "4  http://data.elsevier.com/vocabulary/SciValFund...   \n",
       "5  http://data.elsevier.com/vocabulary/SciValFund...   \n",
       "6  http://data.elsevier.com/vocabulary/SciValFund...   \n",
       "7  http://data.elsevier.com/vocabulary/SciValFund...   \n",
       "8  http://data.elsevier.com/vocabulary/SciValFund...   \n",
       "\n",
       "             funding-agency-country  \n",
       "0  http://sws.geonames.org/6695072/  \n",
       "1                              None  \n",
       "2  http://sws.geonames.org/2921044/  \n",
       "3                              None  \n",
       "4  http://sws.geonames.org/2921044/  \n",
       "5  http://sws.geonames.org/3469034/  \n",
       "6  http://sws.geonames.org/3469034/  \n",
       "7  http://sws.geonames.org/6695072/  \n",
       "8  http://sws.geonames.org/3469034/  "
      ]
     },
     "execution_count": 58,
     "metadata": {},
     "output_type": "execute_result"
    }
   ],
   "source": [
    "Parser.parse_fundings_info(fulltext_XML)\n"
   ]
  },
  {
   "cell_type": "code",
   "execution_count": 59,
   "metadata": {},
   "outputs": [
    {
     "data": {
      "text/html": [
       "<div>\n",
       "<style scoped>\n",
       "    .dataframe tbody tr th:only-of-type {\n",
       "        vertical-align: middle;\n",
       "    }\n",
       "\n",
       "    .dataframe tbody tr th {\n",
       "        vertical-align: top;\n",
       "    }\n",
       "\n",
       "    .dataframe thead th {\n",
       "        text-align: right;\n",
       "    }\n",
       "</style>\n",
       "<table border=\"1\" class=\"dataframe\">\n",
       "  <thead>\n",
       "    <tr style=\"text-align: right;\">\n",
       "      <th></th>\n",
       "      <th>id</th>\n",
       "      <th>label</th>\n",
       "      <th>title</th>\n",
       "      <th>paragraphs</th>\n",
       "      <th>subsections</th>\n",
       "    </tr>\n",
       "  </thead>\n",
       "  <tbody>\n",
       "    <tr>\n",
       "      <th>0</th>\n",
       "      <td>sec0005</td>\n",
       "      <td>None</td>\n",
       "      <td>Introduction</td>\n",
       "      <td>[Conservation biology has contributed to the u...</td>\n",
       "      <td>[{'id': 'sec1005', 'label': None, 'title': 'Th...</td>\n",
       "    </tr>\n",
       "    <tr>\n",
       "      <th>1</th>\n",
       "      <td>sec1005</td>\n",
       "      <td>None</td>\n",
       "      <td>The problem-based conservation agenda</td>\n",
       "      <td>[Problem-based research is widespread in the c...</td>\n",
       "      <td>[]</td>\n",
       "    </tr>\n",
       "    <tr>\n",
       "      <th>2</th>\n",
       "      <td>sec0020</td>\n",
       "      <td>None</td>\n",
       "      <td>The solution-based conservation agenda</td>\n",
       "      <td>[Solution-based conservation research also add...</td>\n",
       "      <td>[]</td>\n",
       "    </tr>\n",
       "    <tr>\n",
       "      <th>3</th>\n",
       "      <td>sec0010</td>\n",
       "      <td>None</td>\n",
       "      <td>Methods</td>\n",
       "      <td>[]</td>\n",
       "      <td>[{'id': 'sec0015', 'label': None, 'title': 'Cl...</td>\n",
       "    </tr>\n",
       "    <tr>\n",
       "      <th>4</th>\n",
       "      <td>sec0015</td>\n",
       "      <td>None</td>\n",
       "      <td>Classification of papers as solution-based and...</td>\n",
       "      <td>[We performed a literature search within the S...</td>\n",
       "      <td>[]</td>\n",
       "    </tr>\n",
       "    <tr>\n",
       "      <th>5</th>\n",
       "      <td>sec0030</td>\n",
       "      <td>None</td>\n",
       "      <td>The use of the words ‘solution’ and ‘problem’</td>\n",
       "      <td>[We performed a simple quantitative discourse ...</td>\n",
       "      <td>[]</td>\n",
       "    </tr>\n",
       "    <tr>\n",
       "      <th>6</th>\n",
       "      <td>sec0035</td>\n",
       "      <td>None</td>\n",
       "      <td>Results</td>\n",
       "      <td>[]</td>\n",
       "      <td>[{'id': 'sec0040', 'label': None, 'title': 'So...</td>\n",
       "    </tr>\n",
       "    <tr>\n",
       "      <th>7</th>\n",
       "      <td>sec0040</td>\n",
       "      <td>None</td>\n",
       "      <td>Solution- or problem-based research: a quantit...</td>\n",
       "      <td>[Only a quarter of the 561 randomly selected c...</td>\n",
       "      <td>[]</td>\n",
       "    </tr>\n",
       "    <tr>\n",
       "      <th>8</th>\n",
       "      <td>sec0045</td>\n",
       "      <td>None</td>\n",
       "      <td>The relative use of solution and problem</td>\n",
       "      <td>[Between 1980 and 2019, 1978 articles employed...</td>\n",
       "      <td>[]</td>\n",
       "    </tr>\n",
       "    <tr>\n",
       "      <th>9</th>\n",
       "      <td>sec0050</td>\n",
       "      <td>None</td>\n",
       "      <td>Discussion</td>\n",
       "      <td>[In the past four decades, conservation biolog...</td>\n",
       "      <td>[{'id': 'sec0055', 'label': None, 'title': 'Th...</td>\n",
       "    </tr>\n",
       "    <tr>\n",
       "      <th>10</th>\n",
       "      <td>sec0055</td>\n",
       "      <td>None</td>\n",
       "      <td>The maturation of conservation biology</td>\n",
       "      <td>[During most of human history, individuals wou...</td>\n",
       "      <td>[]</td>\n",
       "    </tr>\n",
       "    <tr>\n",
       "      <th>11</th>\n",
       "      <td>sec0060</td>\n",
       "      <td>None</td>\n",
       "      <td>Promoting solution-based research</td>\n",
       "      <td>[We posit that in order to be more effective, ...</td>\n",
       "      <td>[]</td>\n",
       "    </tr>\n",
       "    <tr>\n",
       "      <th>12</th>\n",
       "      <td>sec0065</td>\n",
       "      <td>None</td>\n",
       "      <td>Concluding remarks</td>\n",
       "      <td>[In the year 2020, the COVID-19 crisis unequiv...</td>\n",
       "      <td>[]</td>\n",
       "    </tr>\n",
       "    <tr>\n",
       "      <th>13</th>\n",
       "      <td>sec0080</td>\n",
       "      <td>None</td>\n",
       "      <td>Conflicts of interest</td>\n",
       "      <td>[None declared.]</td>\n",
       "      <td>[]</td>\n",
       "    </tr>\n",
       "    <tr>\n",
       "      <th>14</th>\n",
       "      <td>sec0070</td>\n",
       "      <td>Appendix A</td>\n",
       "      <td>Supplementary data</td>\n",
       "      <td>[Supplementary material related to this articl...</td>\n",
       "      <td>[]</td>\n",
       "    </tr>\n",
       "    <tr>\n",
       "      <th>15</th>\n",
       "      <td>sec0075</td>\n",
       "      <td>Appendix A</td>\n",
       "      <td>Supplementary data</td>\n",
       "      <td>[The following are supplementary data to this ...</td>\n",
       "      <td>[]</td>\n",
       "    </tr>\n",
       "  </tbody>\n",
       "</table>\n",
       "</div>"
      ],
      "text/plain": [
       "         id       label                                              title  \\\n",
       "0   sec0005        None                                       Introduction   \n",
       "1   sec1005        None              The problem-based conservation agenda   \n",
       "2   sec0020        None             The solution-based conservation agenda   \n",
       "3   sec0010        None                                            Methods   \n",
       "4   sec0015        None  Classification of papers as solution-based and...   \n",
       "5   sec0030        None      The use of the words ‘solution’ and ‘problem’   \n",
       "6   sec0035        None                                            Results   \n",
       "7   sec0040        None  Solution- or problem-based research: a quantit...   \n",
       "8   sec0045        None           The relative use of solution and problem   \n",
       "9   sec0050        None                                         Discussion   \n",
       "10  sec0055        None             The maturation of conservation biology   \n",
       "11  sec0060        None                  Promoting solution-based research   \n",
       "12  sec0065        None                                 Concluding remarks   \n",
       "13  sec0080        None                              Conflicts of interest   \n",
       "14  sec0070  Appendix A                                 Supplementary data   \n",
       "15  sec0075  Appendix A                                 Supplementary data   \n",
       "\n",
       "                                           paragraphs  \\\n",
       "0   [Conservation biology has contributed to the u...   \n",
       "1   [Problem-based research is widespread in the c...   \n",
       "2   [Solution-based conservation research also add...   \n",
       "3                                                  []   \n",
       "4   [We performed a literature search within the S...   \n",
       "5   [We performed a simple quantitative discourse ...   \n",
       "6                                                  []   \n",
       "7   [Only a quarter of the 561 randomly selected c...   \n",
       "8   [Between 1980 and 2019, 1978 articles employed...   \n",
       "9   [In the past four decades, conservation biolog...   \n",
       "10  [During most of human history, individuals wou...   \n",
       "11  [We posit that in order to be more effective, ...   \n",
       "12  [In the year 2020, the COVID-19 crisis unequiv...   \n",
       "13                                   [None declared.]   \n",
       "14  [Supplementary material related to this articl...   \n",
       "15  [The following are supplementary data to this ...   \n",
       "\n",
       "                                          subsections  \n",
       "0   [{'id': 'sec1005', 'label': None, 'title': 'Th...  \n",
       "1                                                  []  \n",
       "2                                                  []  \n",
       "3   [{'id': 'sec0015', 'label': None, 'title': 'Cl...  \n",
       "4                                                  []  \n",
       "5                                                  []  \n",
       "6   [{'id': 'sec0040', 'label': None, 'title': 'So...  \n",
       "7                                                  []  \n",
       "8                                                  []  \n",
       "9   [{'id': 'sec0055', 'label': None, 'title': 'Th...  \n",
       "10                                                 []  \n",
       "11                                                 []  \n",
       "12                                                 []  \n",
       "13                                                 []  \n",
       "14                                                 []  \n",
       "15                                                 []  "
      ]
     },
     "execution_count": 59,
     "metadata": {},
     "output_type": "execute_result"
    }
   ],
   "source": [
    "Parser.parse_fulltext_info(fulltext_XML)"
   ]
  },
  {
   "cell_type": "markdown",
   "metadata": {},
   "source": [
    "# Head and tail"
   ]
  },
  {
   "cell_type": "code",
   "execution_count": null,
   "metadata": {},
   "outputs": [],
   "source": []
  },
  {
   "cell_type": "code",
   "execution_count": 60,
   "metadata": {},
   "outputs": [
    {
     "data": {
      "text/plain": [
       "'HEAD-AND-TAIL'"
      ]
     },
     "execution_count": 60,
     "metadata": {},
     "output_type": "execute_result"
    }
   ],
   "source": [
    "Parser.get_xmlType(headandtail_XML)"
   ]
  },
  {
   "cell_type": "code",
   "execution_count": 61,
   "metadata": {},
   "outputs": [
    {
     "data": {
      "text/html": [
       "<div>\n",
       "<style scoped>\n",
       "    .dataframe tbody tr th:only-of-type {\n",
       "        vertical-align: middle;\n",
       "    }\n",
       "\n",
       "    .dataframe tbody tr th {\n",
       "        vertical-align: top;\n",
       "    }\n",
       "\n",
       "    .dataframe thead th {\n",
       "        text-align: right;\n",
       "    }\n",
       "</style>\n",
       "<table border=\"1\" class=\"dataframe\">\n",
       "  <thead>\n",
       "    <tr style=\"text-align: right;\">\n",
       "      <th></th>\n",
       "      <th>JournalTitle</th>\n",
       "      <th>JournalID</th>\n",
       "      <th>Issn</th>\n",
       "      <th>Volumn</th>\n",
       "      <th>Firstpage</th>\n",
       "      <th>Lastpage</th>\n",
       "    </tr>\n",
       "  </thead>\n",
       "  <tbody>\n",
       "    <tr>\n",
       "      <th>0</th>\n",
       "      <td>The Lancet</td>\n",
       "      <td>LANCET</td>\n",
       "      <td>0140-6736</td>\n",
       "      <td>177</td>\n",
       "      <td>281</td>\n",
       "      <td>282</td>\n",
       "    </tr>\n",
       "  </tbody>\n",
       "</table>\n",
       "</div>"
      ],
      "text/plain": [
       "  JournalTitle JournalID       Issn Volumn Firstpage Lastpage\n",
       "0   The Lancet    LANCET  0140-6736    177       281      282"
      ]
     },
     "execution_count": 61,
     "metadata": {},
     "output_type": "execute_result"
    }
   ],
   "source": [
    "Parser.parse_source_info(headandtail_XML)"
   ]
  },
  {
   "cell_type": "code",
   "execution_count": 62,
   "metadata": {},
   "outputs": [
    {
     "data": {
      "text/html": [
       "<div>\n",
       "<style scoped>\n",
       "    .dataframe tbody tr th:only-of-type {\n",
       "        vertical-align: middle;\n",
       "    }\n",
       "\n",
       "    .dataframe tbody tr th {\n",
       "        vertical-align: top;\n",
       "    }\n",
       "\n",
       "    .dataframe thead th {\n",
       "        text-align: right;\n",
       "    }\n",
       "</style>\n",
       "<table border=\"1\" class=\"dataframe\">\n",
       "  <thead>\n",
       "    <tr style=\"text-align: right;\">\n",
       "      <th></th>\n",
       "      <th>PublicationDate</th>\n",
       "      <th>Doi</th>\n",
       "      <th>Pii</th>\n",
       "      <th>Eid</th>\n",
       "      <th>DocumentType</th>\n",
       "      <th>DocumentSubType</th>\n",
       "      <th>OpenAccess</th>\n",
       "      <th>License</th>\n",
       "      <th>FirstAuthorSurname</th>\n",
       "      <th>FirstAuthorInitial</th>\n",
       "      <th>ArticleID</th>\n",
       "      <th>copyright</th>\n",
       "      <th>Title</th>\n",
       "      <th>keywords</th>\n",
       "      <th>graphical_abstract</th>\n",
       "      <th>author_highlights</th>\n",
       "      <th>author_abstract</th>\n",
       "    </tr>\n",
       "  </thead>\n",
       "  <tbody>\n",
       "    <tr>\n",
       "      <th>0</th>\n",
       "      <td>28 January 1911</td>\n",
       "      <td>10.1016/S0140-6736(00)50924-6</td>\n",
       "      <td>S0140-6736(00)50924-6</td>\n",
       "      <td>1-s2.0-S0140673600509246</td>\n",
       "      <td>converted-article</td>\n",
       "      <td>cor</td>\n",
       "      <td>False</td>\n",
       "      <td></td>\n",
       "      <td></td>\n",
       "      <td></td>\n",
       "      <td>00509246</td>\n",
       "      <td>None</td>\n",
       "      <td>Originally published as Volume 1, Issue 4561</td>\n",
       "      <td></td>\n",
       "      <td>None</td>\n",
       "      <td>None</td>\n",
       "      <td>None</td>\n",
       "    </tr>\n",
       "  </tbody>\n",
       "</table>\n",
       "</div>"
      ],
      "text/plain": [
       "   PublicationDate                            Doi                    Pii  \\\n",
       "0  28 January 1911  10.1016/S0140-6736(00)50924-6  S0140-6736(00)50924-6   \n",
       "\n",
       "                        Eid       DocumentType DocumentSubType  OpenAccess  \\\n",
       "0  1-s2.0-S0140673600509246  converted-article             cor       False   \n",
       "\n",
       "  License FirstAuthorSurname FirstAuthorInitial ArticleID copyright  \\\n",
       "0                                                00509246      None   \n",
       "\n",
       "                                          Title keywords graphical_abstract  \\\n",
       "0  Originally published as Volume 1, Issue 4561                        None   \n",
       "\n",
       "  author_highlights author_abstract  \n",
       "0              None            None  "
      ]
     },
     "execution_count": 62,
     "metadata": {},
     "output_type": "execute_result"
    }
   ],
   "source": [
    "Parser.parse_article_coreinfo(headandtail_XML)\n"
   ]
  },
  {
   "cell_type": "code",
   "execution_count": 63,
   "metadata": {},
   "outputs": [
    {
     "data": {
      "text/html": [
       "<div>\n",
       "<style scoped>\n",
       "    .dataframe tbody tr th:only-of-type {\n",
       "        vertical-align: middle;\n",
       "    }\n",
       "\n",
       "    .dataframe tbody tr th {\n",
       "        vertical-align: top;\n",
       "    }\n",
       "\n",
       "    .dataframe thead th {\n",
       "        text-align: right;\n",
       "    }\n",
       "</style>\n",
       "<table border=\"1\" class=\"dataframe\">\n",
       "  <thead>\n",
       "    <tr style=\"text-align: right;\">\n",
       "      <th></th>\n",
       "    </tr>\n",
       "  </thead>\n",
       "  <tbody>\n",
       "  </tbody>\n",
       "</table>\n",
       "</div>"
      ],
      "text/plain": [
       "Empty DataFrame\n",
       "Columns: []\n",
       "Index: []"
      ]
     },
     "execution_count": 63,
     "metadata": {},
     "output_type": "execute_result"
    }
   ],
   "source": [
    "Parser.parse_authors_info(headandtail_XML)\n"
   ]
  },
  {
   "cell_type": "code",
   "execution_count": 64,
   "metadata": {},
   "outputs": [
    {
     "data": {
      "text/html": [
       "<div>\n",
       "<style scoped>\n",
       "    .dataframe tbody tr th:only-of-type {\n",
       "        vertical-align: middle;\n",
       "    }\n",
       "\n",
       "    .dataframe tbody tr th {\n",
       "        vertical-align: top;\n",
       "    }\n",
       "\n",
       "    .dataframe thead th {\n",
       "        text-align: right;\n",
       "    }\n",
       "</style>\n",
       "<table border=\"1\" class=\"dataframe\">\n",
       "  <thead>\n",
       "    <tr style=\"text-align: right;\">\n",
       "      <th></th>\n",
       "    </tr>\n",
       "  </thead>\n",
       "  <tbody>\n",
       "  </tbody>\n",
       "</table>\n",
       "</div>"
      ],
      "text/plain": [
       "Empty DataFrame\n",
       "Columns: []\n",
       "Index: []"
      ]
     },
     "execution_count": 64,
     "metadata": {},
     "output_type": "execute_result"
    }
   ],
   "source": [
    "Parser.parse_figures_info(headandtail_XML)\n"
   ]
  },
  {
   "cell_type": "code",
   "execution_count": 65,
   "metadata": {},
   "outputs": [
    {
     "data": {
      "text/plain": [
       "[]"
      ]
     },
     "execution_count": 65,
     "metadata": {},
     "output_type": "execute_result"
    }
   ],
   "source": [
    "Parser.parse_tables_info(headandtail_XML)\n"
   ]
  },
  {
   "cell_type": "code",
   "execution_count": 66,
   "metadata": {},
   "outputs": [
    {
     "data": {
      "text/html": [
       "<div>\n",
       "<style scoped>\n",
       "    .dataframe tbody tr th:only-of-type {\n",
       "        vertical-align: middle;\n",
       "    }\n",
       "\n",
       "    .dataframe tbody tr th {\n",
       "        vertical-align: top;\n",
       "    }\n",
       "\n",
       "    .dataframe thead th {\n",
       "        text-align: right;\n",
       "    }\n",
       "</style>\n",
       "<table border=\"1\" class=\"dataframe\">\n",
       "  <thead>\n",
       "    <tr style=\"text-align: right;\">\n",
       "      <th></th>\n",
       "    </tr>\n",
       "  </thead>\n",
       "  <tbody>\n",
       "  </tbody>\n",
       "</table>\n",
       "</div>"
      ],
      "text/plain": [
       "Empty DataFrame\n",
       "Columns: []\n",
       "Index: []"
      ]
     },
     "execution_count": 66,
     "metadata": {},
     "output_type": "execute_result"
    }
   ],
   "source": [
    "Parser.parse_references_info(headandtail_XML)\n"
   ]
  },
  {
   "cell_type": "code",
   "execution_count": 67,
   "metadata": {},
   "outputs": [
    {
     "data": {
      "text/html": [
       "<div>\n",
       "<style scoped>\n",
       "    .dataframe tbody tr th:only-of-type {\n",
       "        vertical-align: middle;\n",
       "    }\n",
       "\n",
       "    .dataframe tbody tr th {\n",
       "        vertical-align: top;\n",
       "    }\n",
       "\n",
       "    .dataframe thead th {\n",
       "        text-align: right;\n",
       "    }\n",
       "</style>\n",
       "<table border=\"1\" class=\"dataframe\">\n",
       "  <thead>\n",
       "    <tr style=\"text-align: right;\">\n",
       "      <th></th>\n",
       "    </tr>\n",
       "  </thead>\n",
       "  <tbody>\n",
       "  </tbody>\n",
       "</table>\n",
       "</div>"
      ],
      "text/plain": [
       "Empty DataFrame\n",
       "Columns: []\n",
       "Index: []"
      ]
     },
     "execution_count": 67,
     "metadata": {},
     "output_type": "execute_result"
    }
   ],
   "source": [
    "Parser.parse_allAttachment_info(headandtail_XML)\n"
   ]
  },
  {
   "cell_type": "code",
   "execution_count": 68,
   "metadata": {},
   "outputs": [
    {
     "data": {
      "text/html": [
       "<div>\n",
       "<style scoped>\n",
       "    .dataframe tbody tr th:only-of-type {\n",
       "        vertical-align: middle;\n",
       "    }\n",
       "\n",
       "    .dataframe tbody tr th {\n",
       "        vertical-align: top;\n",
       "    }\n",
       "\n",
       "    .dataframe thead th {\n",
       "        text-align: right;\n",
       "    }\n",
       "</style>\n",
       "<table border=\"1\" class=\"dataframe\">\n",
       "  <thead>\n",
       "    <tr style=\"text-align: right;\">\n",
       "      <th></th>\n",
       "      <th>eid</th>\n",
       "      <th>url</th>\n",
       "      <th>filename</th>\n",
       "      <th>filetype</th>\n",
       "      <th>filesize</th>\n",
       "    </tr>\n",
       "  </thead>\n",
       "  <tbody>\n",
       "    <tr>\n",
       "      <th>0</th>\n",
       "      <td>1-s2.0-S0140673600509246-main.pdf</td>\n",
       "      <td>https://s3.amazonaws.com/prod-ucs-content-stor...</td>\n",
       "      <td>main.pdf</td>\n",
       "      <td>pdf</td>\n",
       "      <td>375479</td>\n",
       "    </tr>\n",
       "  </tbody>\n",
       "</table>\n",
       "</div>"
      ],
      "text/plain": [
       "                                 eid  \\\n",
       "0  1-s2.0-S0140673600509246-main.pdf   \n",
       "\n",
       "                                                 url  filename filetype  \\\n",
       "0  https://s3.amazonaws.com/prod-ucs-content-stor...  main.pdf      pdf   \n",
       "\n",
       "   filesize  \n",
       "0    375479  "
      ]
     },
     "execution_count": 68,
     "metadata": {},
     "output_type": "execute_result"
    }
   ],
   "source": [
    "Parser.parse_webfulltextPDF(headandtail_XML)\n"
   ]
  },
  {
   "cell_type": "code",
   "execution_count": 69,
   "metadata": {},
   "outputs": [
    {
     "data": {
      "text/html": [
       "<div>\n",
       "<style scoped>\n",
       "    .dataframe tbody tr th:only-of-type {\n",
       "        vertical-align: middle;\n",
       "    }\n",
       "\n",
       "    .dataframe tbody tr th {\n",
       "        vertical-align: top;\n",
       "    }\n",
       "\n",
       "    .dataframe thead th {\n",
       "        text-align: right;\n",
       "    }\n",
       "</style>\n",
       "<table border=\"1\" class=\"dataframe\">\n",
       "  <thead>\n",
       "    <tr style=\"text-align: right;\">\n",
       "      <th></th>\n",
       "      <th>eid</th>\n",
       "      <th>url</th>\n",
       "      <th>filename</th>\n",
       "      <th>filetype</th>\n",
       "      <th>filesize</th>\n",
       "    </tr>\n",
       "  </thead>\n",
       "  <tbody>\n",
       "    <tr>\n",
       "      <th>0</th>\n",
       "      <td>1-s2.0-S0140673600509246-main_1.png</td>\n",
       "      <td>https://s3.amazonaws.com/prod-ucs-content-stor...</td>\n",
       "      <td>main_1.png</td>\n",
       "      <td>png</td>\n",
       "      <td>113227</td>\n",
       "    </tr>\n",
       "  </tbody>\n",
       "</table>\n",
       "</div>"
      ],
      "text/plain": [
       "                                   eid  \\\n",
       "0  1-s2.0-S0140673600509246-main_1.png   \n",
       "\n",
       "                                                 url    filename filetype  \\\n",
       "0  https://s3.amazonaws.com/prod-ucs-content-stor...  main_1.png      png   \n",
       "\n",
       "   filesize  \n",
       "0    113227  "
      ]
     },
     "execution_count": 69,
     "metadata": {},
     "output_type": "execute_result"
    }
   ],
   "source": [
    "Parser.parse_webfulltextIMG(headandtail_XML)\n"
   ]
  },
  {
   "cell_type": "code",
   "execution_count": 70,
   "metadata": {},
   "outputs": [
    {
     "data": {
      "text/html": [
       "<div>\n",
       "<style scoped>\n",
       "    .dataframe tbody tr th:only-of-type {\n",
       "        vertical-align: middle;\n",
       "    }\n",
       "\n",
       "    .dataframe tbody tr th {\n",
       "        vertical-align: top;\n",
       "    }\n",
       "\n",
       "    .dataframe thead th {\n",
       "        text-align: right;\n",
       "    }\n",
       "</style>\n",
       "<table border=\"1\" class=\"dataframe\">\n",
       "  <thead>\n",
       "    <tr style=\"text-align: right;\">\n",
       "      <th></th>\n",
       "    </tr>\n",
       "  </thead>\n",
       "  <tbody>\n",
       "  </tbody>\n",
       "</table>\n",
       "</div>"
      ],
      "text/plain": [
       "Empty DataFrame\n",
       "Columns: []\n",
       "Index: []"
      ]
     },
     "execution_count": 70,
     "metadata": {},
     "output_type": "execute_result"
    }
   ],
   "source": [
    "Parser.parse_fundings_info(headandtail_XML)\n"
   ]
  },
  {
   "cell_type": "code",
   "execution_count": 71,
   "metadata": {},
   "outputs": [
    {
     "data": {
      "text/html": [
       "<div>\n",
       "<style scoped>\n",
       "    .dataframe tbody tr th:only-of-type {\n",
       "        vertical-align: middle;\n",
       "    }\n",
       "\n",
       "    .dataframe tbody tr th {\n",
       "        vertical-align: top;\n",
       "    }\n",
       "\n",
       "    .dataframe thead th {\n",
       "        text-align: right;\n",
       "    }\n",
       "</style>\n",
       "<table border=\"1\" class=\"dataframe\">\n",
       "  <thead>\n",
       "    <tr style=\"text-align: right;\">\n",
       "      <th></th>\n",
       "      <th>raw_text</th>\n",
       "    </tr>\n",
       "  </thead>\n",
       "  <tbody>\n",
       "    <tr>\n",
       "      <th>0</th>\n",
       "      <td>The Lancet Notes, Short Comments, and Answers ...</td>\n",
       "    </tr>\n",
       "  </tbody>\n",
       "</table>\n",
       "</div>"
      ],
      "text/plain": [
       "                                            raw_text\n",
       "0  The Lancet Notes, Short Comments, and Answers ..."
      ]
     },
     "execution_count": 71,
     "metadata": {},
     "output_type": "execute_result"
    }
   ],
   "source": [
    "Parser.parse_fulltext_info(headandtail_XML)"
   ]
  },
  {
   "cell_type": "markdown",
   "metadata": {},
   "source": [
    "# Head Only"
   ]
  },
  {
   "cell_type": "code",
   "execution_count": null,
   "metadata": {},
   "outputs": [],
   "source": []
  },
  {
   "cell_type": "code",
   "execution_count": 72,
   "metadata": {},
   "outputs": [
    {
     "data": {
      "text/plain": [
       "'HEAD-ONLY'"
      ]
     },
     "execution_count": 72,
     "metadata": {},
     "output_type": "execute_result"
    }
   ],
   "source": [
    "Parser.get_xmlType(headonly_XML)"
   ]
  },
  {
   "cell_type": "code",
   "execution_count": 73,
   "metadata": {},
   "outputs": [
    {
     "data": {
      "text/html": [
       "<div>\n",
       "<style scoped>\n",
       "    .dataframe tbody tr th:only-of-type {\n",
       "        vertical-align: middle;\n",
       "    }\n",
       "\n",
       "    .dataframe tbody tr th {\n",
       "        vertical-align: top;\n",
       "    }\n",
       "\n",
       "    .dataframe thead th {\n",
       "        text-align: right;\n",
       "    }\n",
       "</style>\n",
       "<table border=\"1\" class=\"dataframe\">\n",
       "  <thead>\n",
       "    <tr style=\"text-align: right;\">\n",
       "      <th></th>\n",
       "      <th>JournalTitle</th>\n",
       "      <th>JournalID</th>\n",
       "      <th>Issn</th>\n",
       "      <th>Volumn</th>\n",
       "      <th>Firstpage</th>\n",
       "      <th>Lastpage</th>\n",
       "    </tr>\n",
       "  </thead>\n",
       "  <tbody>\n",
       "    <tr>\n",
       "      <th>0</th>\n",
       "      <td>Oral Surgery, Oral Medicine, Oral Pathology an...</td>\n",
       "      <td>OOOO</td>\n",
       "      <td>2212-4403</td>\n",
       "      <td>129</td>\n",
       "      <td>e79</td>\n",
       "      <td>e80</td>\n",
       "    </tr>\n",
       "  </tbody>\n",
       "</table>\n",
       "</div>"
      ],
      "text/plain": [
       "                                        JournalTitle JournalID       Issn  \\\n",
       "0  Oral Surgery, Oral Medicine, Oral Pathology an...      OOOO  2212-4403   \n",
       "\n",
       "  Volumn Firstpage Lastpage  \n",
       "0    129       e79      e80  "
      ]
     },
     "execution_count": 73,
     "metadata": {},
     "output_type": "execute_result"
    }
   ],
   "source": [
    "Parser.parse_source_info(headonly_XML)"
   ]
  },
  {
   "cell_type": "code",
   "execution_count": 74,
   "metadata": {},
   "outputs": [
    {
     "data": {
      "text/html": [
       "<div>\n",
       "<style scoped>\n",
       "    .dataframe tbody tr th:only-of-type {\n",
       "        vertical-align: middle;\n",
       "    }\n",
       "\n",
       "    .dataframe tbody tr th {\n",
       "        vertical-align: top;\n",
       "    }\n",
       "\n",
       "    .dataframe thead th {\n",
       "        text-align: right;\n",
       "    }\n",
       "</style>\n",
       "<table border=\"1\" class=\"dataframe\">\n",
       "  <thead>\n",
       "    <tr style=\"text-align: right;\">\n",
       "      <th></th>\n",
       "      <th>PublicationDate</th>\n",
       "      <th>Doi</th>\n",
       "      <th>Pii</th>\n",
       "      <th>Eid</th>\n",
       "      <th>DocumentType</th>\n",
       "      <th>DocumentSubType</th>\n",
       "      <th>OpenAccess</th>\n",
       "      <th>License</th>\n",
       "      <th>FirstAuthorSurname</th>\n",
       "      <th>FirstAuthorInitial</th>\n",
       "      <th>ArticleID</th>\n",
       "      <th>copyright</th>\n",
       "      <th>Title</th>\n",
       "      <th>keywords</th>\n",
       "      <th>graphical_abstract</th>\n",
       "      <th>author_highlights</th>\n",
       "      <th>author_abstract</th>\n",
       "    </tr>\n",
       "  </thead>\n",
       "  <tbody>\n",
       "    <tr>\n",
       "      <th>0</th>\n",
       "      <td>January 2020</td>\n",
       "      <td>10.1016/j.oooo.2019.06.322</td>\n",
       "      <td>S2212-4403(19)30871-5</td>\n",
       "      <td>1-s2.0-S2212440319308715</td>\n",
       "      <td>simple-article</td>\n",
       "      <td>abs</td>\n",
       "      <td>False</td>\n",
       "      <td></td>\n",
       "      <td>ANTUNES</td>\n",
       "      <td>F</td>\n",
       "      <td>4184.308</td>\n",
       "      <td>None</td>\n",
       "      <td>MAJOR APHTHOUS ULCERATIONS ASSOCIATED WITH SIC...</td>\n",
       "      <td></td>\n",
       "      <td>None</td>\n",
       "      <td>None</td>\n",
       "      <td>An 18-year-old white woman was referred to our...</td>\n",
       "    </tr>\n",
       "  </tbody>\n",
       "</table>\n",
       "</div>"
      ],
      "text/plain": [
       "  PublicationDate                         Doi                    Pii  \\\n",
       "0    January 2020  10.1016/j.oooo.2019.06.322  S2212-4403(19)30871-5   \n",
       "\n",
       "                        Eid    DocumentType DocumentSubType  OpenAccess  \\\n",
       "0  1-s2.0-S2212440319308715  simple-article             abs       False   \n",
       "\n",
       "  License FirstAuthorSurname FirstAuthorInitial ArticleID copyright  \\\n",
       "0                    ANTUNES                  F  4184.308      None   \n",
       "\n",
       "                                               Title keywords  \\\n",
       "0  MAJOR APHTHOUS ULCERATIONS ASSOCIATED WITH SIC...            \n",
       "\n",
       "  graphical_abstract author_highlights  \\\n",
       "0               None              None   \n",
       "\n",
       "                                     author_abstract  \n",
       "0  An 18-year-old white woman was referred to our...  "
      ]
     },
     "execution_count": 74,
     "metadata": {},
     "output_type": "execute_result"
    }
   ],
   "source": [
    "Parser.parse_article_coreinfo(headonly_XML)\n"
   ]
  },
  {
   "cell_type": "code",
   "execution_count": 75,
   "metadata": {},
   "outputs": [
    {
     "data": {
      "text/html": [
       "<div>\n",
       "<style scoped>\n",
       "    .dataframe tbody tr th:only-of-type {\n",
       "        vertical-align: middle;\n",
       "    }\n",
       "\n",
       "    .dataframe tbody tr th {\n",
       "        vertical-align: top;\n",
       "    }\n",
       "\n",
       "    .dataframe thead th {\n",
       "        text-align: right;\n",
       "    }\n",
       "</style>\n",
       "<table border=\"1\" class=\"dataframe\">\n",
       "  <thead>\n",
       "    <tr style=\"text-align: right;\">\n",
       "      <th></th>\n",
       "      <th>given_name</th>\n",
       "      <th>surname</th>\n",
       "      <th>email</th>\n",
       "      <th>affiliations</th>\n",
       "    </tr>\n",
       "  </thead>\n",
       "  <tbody>\n",
       "    <tr>\n",
       "      <th>0</th>\n",
       "      <td>FLAVIO LUCENA</td>\n",
       "      <td>ANTUNES</td>\n",
       "      <td>None</td>\n",
       "      <td>[]</td>\n",
       "    </tr>\n",
       "    <tr>\n",
       "      <th>1</th>\n",
       "      <td>PAULO EDUARDO ALENCAR</td>\n",
       "      <td>DE SOUZA</td>\n",
       "      <td>None</td>\n",
       "      <td>[]</td>\n",
       "    </tr>\n",
       "    <tr>\n",
       "      <th>2</th>\n",
       "      <td>GIOVANNA RIBEIRO</td>\n",
       "      <td>SOUTO</td>\n",
       "      <td>None</td>\n",
       "      <td>[]</td>\n",
       "    </tr>\n",
       "    <tr>\n",
       "      <th>3</th>\n",
       "      <td>HELENICE</td>\n",
       "      <td>DE ANDRADE MARIGO GRANDINETTI</td>\n",
       "      <td>None</td>\n",
       "      <td>[]</td>\n",
       "    </tr>\n",
       "    <tr>\n",
       "      <th>4</th>\n",
       "      <td>MARTINHO CAMPOLINA REBELLO</td>\n",
       "      <td>HORTA</td>\n",
       "      <td>None</td>\n",
       "      <td>[]</td>\n",
       "    </tr>\n",
       "    <tr>\n",
       "      <th>5</th>\n",
       "      <td>SORAYA</td>\n",
       "      <td>DE MATTOS CAMARGO GROSSMANN</td>\n",
       "      <td>None</td>\n",
       "      <td>[]</td>\n",
       "    </tr>\n",
       "  </tbody>\n",
       "</table>\n",
       "</div>"
      ],
      "text/plain": [
       "                   given_name                        surname email  \\\n",
       "0               FLAVIO LUCENA                        ANTUNES  None   \n",
       "1       PAULO EDUARDO ALENCAR                       DE SOUZA  None   \n",
       "2            GIOVANNA RIBEIRO                          SOUTO  None   \n",
       "3                    HELENICE  DE ANDRADE MARIGO GRANDINETTI  None   \n",
       "4  MARTINHO CAMPOLINA REBELLO                          HORTA  None   \n",
       "5                      SORAYA    DE MATTOS CAMARGO GROSSMANN  None   \n",
       "\n",
       "  affiliations  \n",
       "0           []  \n",
       "1           []  \n",
       "2           []  \n",
       "3           []  \n",
       "4           []  \n",
       "5           []  "
      ]
     },
     "execution_count": 75,
     "metadata": {},
     "output_type": "execute_result"
    }
   ],
   "source": [
    "Parser.parse_authors_info(headonly_XML)\n"
   ]
  },
  {
   "cell_type": "code",
   "execution_count": 76,
   "metadata": {},
   "outputs": [
    {
     "data": {
      "text/html": [
       "<div>\n",
       "<style scoped>\n",
       "    .dataframe tbody tr th:only-of-type {\n",
       "        vertical-align: middle;\n",
       "    }\n",
       "\n",
       "    .dataframe tbody tr th {\n",
       "        vertical-align: top;\n",
       "    }\n",
       "\n",
       "    .dataframe thead th {\n",
       "        text-align: right;\n",
       "    }\n",
       "</style>\n",
       "<table border=\"1\" class=\"dataframe\">\n",
       "  <thead>\n",
       "    <tr style=\"text-align: right;\">\n",
       "      <th></th>\n",
       "    </tr>\n",
       "  </thead>\n",
       "  <tbody>\n",
       "  </tbody>\n",
       "</table>\n",
       "</div>"
      ],
      "text/plain": [
       "Empty DataFrame\n",
       "Columns: []\n",
       "Index: []"
      ]
     },
     "execution_count": 76,
     "metadata": {},
     "output_type": "execute_result"
    }
   ],
   "source": [
    "Parser.parse_figures_info(headonly_XML)\n"
   ]
  },
  {
   "cell_type": "code",
   "execution_count": 77,
   "metadata": {},
   "outputs": [
    {
     "data": {
      "text/plain": [
       "[]"
      ]
     },
     "execution_count": 77,
     "metadata": {},
     "output_type": "execute_result"
    }
   ],
   "source": [
    "Parser.parse_tables_info(headonly_XML)\n"
   ]
  },
  {
   "cell_type": "code",
   "execution_count": 78,
   "metadata": {},
   "outputs": [
    {
     "data": {
      "text/html": [
       "<div>\n",
       "<style scoped>\n",
       "    .dataframe tbody tr th:only-of-type {\n",
       "        vertical-align: middle;\n",
       "    }\n",
       "\n",
       "    .dataframe tbody tr th {\n",
       "        vertical-align: top;\n",
       "    }\n",
       "\n",
       "    .dataframe thead th {\n",
       "        text-align: right;\n",
       "    }\n",
       "</style>\n",
       "<table border=\"1\" class=\"dataframe\">\n",
       "  <thead>\n",
       "    <tr style=\"text-align: right;\">\n",
       "      <th></th>\n",
       "    </tr>\n",
       "  </thead>\n",
       "  <tbody>\n",
       "  </tbody>\n",
       "</table>\n",
       "</div>"
      ],
      "text/plain": [
       "Empty DataFrame\n",
       "Columns: []\n",
       "Index: []"
      ]
     },
     "execution_count": 78,
     "metadata": {},
     "output_type": "execute_result"
    }
   ],
   "source": [
    "Parser.parse_references_info(headonly_XML)\n"
   ]
  },
  {
   "cell_type": "code",
   "execution_count": 79,
   "metadata": {},
   "outputs": [
    {
     "data": {
      "text/html": [
       "<div>\n",
       "<style scoped>\n",
       "    .dataframe tbody tr th:only-of-type {\n",
       "        vertical-align: middle;\n",
       "    }\n",
       "\n",
       "    .dataframe tbody tr th {\n",
       "        vertical-align: top;\n",
       "    }\n",
       "\n",
       "    .dataframe thead th {\n",
       "        text-align: right;\n",
       "    }\n",
       "</style>\n",
       "<table border=\"1\" class=\"dataframe\">\n",
       "  <thead>\n",
       "    <tr style=\"text-align: right;\">\n",
       "      <th></th>\n",
       "    </tr>\n",
       "  </thead>\n",
       "  <tbody>\n",
       "  </tbody>\n",
       "</table>\n",
       "</div>"
      ],
      "text/plain": [
       "Empty DataFrame\n",
       "Columns: []\n",
       "Index: []"
      ]
     },
     "execution_count": 79,
     "metadata": {},
     "output_type": "execute_result"
    }
   ],
   "source": [
    "Parser.parse_allAttachment_info(headonly_XML)\n"
   ]
  },
  {
   "cell_type": "code",
   "execution_count": 80,
   "metadata": {},
   "outputs": [
    {
     "data": {
      "text/html": [
       "<div>\n",
       "<style scoped>\n",
       "    .dataframe tbody tr th:only-of-type {\n",
       "        vertical-align: middle;\n",
       "    }\n",
       "\n",
       "    .dataframe tbody tr th {\n",
       "        vertical-align: top;\n",
       "    }\n",
       "\n",
       "    .dataframe thead th {\n",
       "        text-align: right;\n",
       "    }\n",
       "</style>\n",
       "<table border=\"1\" class=\"dataframe\">\n",
       "  <thead>\n",
       "    <tr style=\"text-align: right;\">\n",
       "      <th></th>\n",
       "      <th>eid</th>\n",
       "      <th>url</th>\n",
       "      <th>filename</th>\n",
       "      <th>filetype</th>\n",
       "      <th>filesize</th>\n",
       "    </tr>\n",
       "  </thead>\n",
       "  <tbody>\n",
       "    <tr>\n",
       "      <th>0</th>\n",
       "      <td>1-s2.0-S2212440319308715-main.pdf</td>\n",
       "      <td>https://s3.amazonaws.com/prod-ucs-content-stor...</td>\n",
       "      <td>main.pdf</td>\n",
       "      <td>pdf</td>\n",
       "      <td>48333</td>\n",
       "    </tr>\n",
       "  </tbody>\n",
       "</table>\n",
       "</div>"
      ],
      "text/plain": [
       "                                 eid  \\\n",
       "0  1-s2.0-S2212440319308715-main.pdf   \n",
       "\n",
       "                                                 url  filename filetype  \\\n",
       "0  https://s3.amazonaws.com/prod-ucs-content-stor...  main.pdf      pdf   \n",
       "\n",
       "   filesize  \n",
       "0     48333  "
      ]
     },
     "execution_count": 80,
     "metadata": {},
     "output_type": "execute_result"
    }
   ],
   "source": [
    "Parser.parse_webfulltextPDF(headonly_XML)\n"
   ]
  },
  {
   "cell_type": "code",
   "execution_count": 81,
   "metadata": {},
   "outputs": [
    {
     "data": {
      "text/html": [
       "<div>\n",
       "<style scoped>\n",
       "    .dataframe tbody tr th:only-of-type {\n",
       "        vertical-align: middle;\n",
       "    }\n",
       "\n",
       "    .dataframe tbody tr th {\n",
       "        vertical-align: top;\n",
       "    }\n",
       "\n",
       "    .dataframe thead th {\n",
       "        text-align: right;\n",
       "    }\n",
       "</style>\n",
       "<table border=\"1\" class=\"dataframe\">\n",
       "  <thead>\n",
       "    <tr style=\"text-align: right;\">\n",
       "      <th></th>\n",
       "      <th>eid</th>\n",
       "      <th>url</th>\n",
       "      <th>filename</th>\n",
       "      <th>filetype</th>\n",
       "      <th>filesize</th>\n",
       "    </tr>\n",
       "  </thead>\n",
       "  <tbody>\n",
       "    <tr>\n",
       "      <th>0</th>\n",
       "      <td>1-s2.0-S2212440319308715-main_1.png</td>\n",
       "      <td>https://s3.amazonaws.com/prod-ucs-content-stor...</td>\n",
       "      <td>main_1.png</td>\n",
       "      <td>png</td>\n",
       "      <td>85717</td>\n",
       "    </tr>\n",
       "  </tbody>\n",
       "</table>\n",
       "</div>"
      ],
      "text/plain": [
       "                                   eid  \\\n",
       "0  1-s2.0-S2212440319308715-main_1.png   \n",
       "\n",
       "                                                 url    filename filetype  \\\n",
       "0  https://s3.amazonaws.com/prod-ucs-content-stor...  main_1.png      png   \n",
       "\n",
       "   filesize  \n",
       "0     85717  "
      ]
     },
     "execution_count": 81,
     "metadata": {},
     "output_type": "execute_result"
    }
   ],
   "source": [
    "Parser.parse_webfulltextIMG(headonly_XML)\n"
   ]
  },
  {
   "cell_type": "code",
   "execution_count": 82,
   "metadata": {},
   "outputs": [
    {
     "data": {
      "text/html": [
       "<div>\n",
       "<style scoped>\n",
       "    .dataframe tbody tr th:only-of-type {\n",
       "        vertical-align: middle;\n",
       "    }\n",
       "\n",
       "    .dataframe tbody tr th {\n",
       "        vertical-align: top;\n",
       "    }\n",
       "\n",
       "    .dataframe thead th {\n",
       "        text-align: right;\n",
       "    }\n",
       "</style>\n",
       "<table border=\"1\" class=\"dataframe\">\n",
       "  <thead>\n",
       "    <tr style=\"text-align: right;\">\n",
       "      <th></th>\n",
       "    </tr>\n",
       "  </thead>\n",
       "  <tbody>\n",
       "  </tbody>\n",
       "</table>\n",
       "</div>"
      ],
      "text/plain": [
       "Empty DataFrame\n",
       "Columns: []\n",
       "Index: []"
      ]
     },
     "execution_count": 82,
     "metadata": {},
     "output_type": "execute_result"
    }
   ],
   "source": [
    "Parser.parse_fundings_info(headonly_XML)\n"
   ]
  },
  {
   "cell_type": "code",
   "execution_count": 83,
   "metadata": {},
   "outputs": [
    {
     "data": {
      "text/html": [
       "<div>\n",
       "<style scoped>\n",
       "    .dataframe tbody tr th:only-of-type {\n",
       "        vertical-align: middle;\n",
       "    }\n",
       "\n",
       "    .dataframe tbody tr th {\n",
       "        vertical-align: top;\n",
       "    }\n",
       "\n",
       "    .dataframe thead th {\n",
       "        text-align: right;\n",
       "    }\n",
       "</style>\n",
       "<table border=\"1\" class=\"dataframe\">\n",
       "  <thead>\n",
       "    <tr style=\"text-align: right;\">\n",
       "      <th></th>\n",
       "      <th>raw_text</th>\n",
       "    </tr>\n",
       "  </thead>\n",
       "  <tbody>\n",
       "    <tr>\n",
       "      <th>0</th>\n",
       "      <td>attern with lastic cells. ntraosseous enting o...</td>\n",
       "    </tr>\n",
       "  </tbody>\n",
       "</table>\n",
       "</div>"
      ],
      "text/plain": [
       "                                            raw_text\n",
       "0  attern with lastic cells. ntraosseous enting o..."
      ]
     },
     "execution_count": 83,
     "metadata": {},
     "output_type": "execute_result"
    }
   ],
   "source": [
    "Parser.parse_fulltext_info(headonly_XML)"
   ]
  },
  {
   "cell_type": "markdown",
   "metadata": {},
   "source": [
    "# Contents Entry Only"
   ]
  },
  {
   "cell_type": "code",
   "execution_count": null,
   "metadata": {},
   "outputs": [],
   "source": []
  },
  {
   "cell_type": "code",
   "execution_count": 84,
   "metadata": {},
   "outputs": [
    {
     "data": {
      "text/plain": [
       "'CONTENTS-ENTRY-ONLY'"
      ]
     },
     "execution_count": 84,
     "metadata": {},
     "output_type": "execute_result"
    }
   ],
   "source": [
    "Parser.get_xmlType(contentsEntryOnly_xml)"
   ]
  },
  {
   "cell_type": "code",
   "execution_count": 85,
   "metadata": {},
   "outputs": [
    {
     "data": {
      "text/html": [
       "<div>\n",
       "<style scoped>\n",
       "    .dataframe tbody tr th:only-of-type {\n",
       "        vertical-align: middle;\n",
       "    }\n",
       "\n",
       "    .dataframe tbody tr th {\n",
       "        vertical-align: top;\n",
       "    }\n",
       "\n",
       "    .dataframe thead th {\n",
       "        text-align: right;\n",
       "    }\n",
       "</style>\n",
       "<table border=\"1\" class=\"dataframe\">\n",
       "  <thead>\n",
       "    <tr style=\"text-align: right;\">\n",
       "      <th></th>\n",
       "      <th>JournalTitle</th>\n",
       "      <th>JournalID</th>\n",
       "      <th>Issn</th>\n",
       "      <th>Volumn</th>\n",
       "      <th>Firstpage</th>\n",
       "      <th>Lastpage</th>\n",
       "    </tr>\n",
       "  </thead>\n",
       "  <tbody>\n",
       "    <tr>\n",
       "      <th>0</th>\n",
       "      <td>Clinical Nutrition</td>\n",
       "      <td>YCLNU</td>\n",
       "      <td>0261-5614</td>\n",
       "      <td>4</td>\n",
       "      <td>94</td>\n",
       "      <td></td>\n",
       "    </tr>\n",
       "  </tbody>\n",
       "</table>\n",
       "</div>"
      ],
      "text/plain": [
       "         JournalTitle JournalID       Issn Volumn Firstpage Lastpage\n",
       "0  Clinical Nutrition     YCLNU  0261-5614      4        94         "
      ]
     },
     "execution_count": 85,
     "metadata": {},
     "output_type": "execute_result"
    }
   ],
   "source": [
    "Parser.parse_source_info(contentsEntryOnly_xml)"
   ]
  },
  {
   "cell_type": "code",
   "execution_count": 86,
   "metadata": {},
   "outputs": [
    {
     "data": {
      "text/html": [
       "<div>\n",
       "<style scoped>\n",
       "    .dataframe tbody tr th:only-of-type {\n",
       "        vertical-align: middle;\n",
       "    }\n",
       "\n",
       "    .dataframe tbody tr th {\n",
       "        vertical-align: top;\n",
       "    }\n",
       "\n",
       "    .dataframe thead th {\n",
       "        text-align: right;\n",
       "    }\n",
       "</style>\n",
       "<table border=\"1\" class=\"dataframe\">\n",
       "  <thead>\n",
       "    <tr style=\"text-align: right;\">\n",
       "      <th></th>\n",
       "      <th>PublicationDate</th>\n",
       "      <th>Doi</th>\n",
       "      <th>Pii</th>\n",
       "      <th>Eid</th>\n",
       "      <th>DocumentType</th>\n",
       "      <th>DocumentSubType</th>\n",
       "      <th>OpenAccess</th>\n",
       "      <th>License</th>\n",
       "      <th>FirstAuthorSurname</th>\n",
       "      <th>FirstAuthorInitial</th>\n",
       "      <th>ArticleID</th>\n",
       "      <th>copyright</th>\n",
       "      <th>Title</th>\n",
       "      <th>keywords</th>\n",
       "      <th>graphical_abstract</th>\n",
       "      <th>author_highlights</th>\n",
       "      <th>author_abstract</th>\n",
       "    </tr>\n",
       "  </thead>\n",
       "  <tbody>\n",
       "    <tr>\n",
       "      <th>0</th>\n",
       "      <td>1985</td>\n",
       "      <td>10.1016/0261-5614(85)90183-9</td>\n",
       "      <td>0261-5614(85)90183-9</td>\n",
       "      <td>1-s2.0-0261561485901839</td>\n",
       "      <td>converted-article</td>\n",
       "      <td>abs</td>\n",
       "      <td>False</td>\n",
       "      <td></td>\n",
       "      <td></td>\n",
       "      <td></td>\n",
       "      <td>85901839</td>\n",
       "      <td>None</td>\n",
       "      <td>7th ESPEN Congress</td>\n",
       "      <td></td>\n",
       "      <td>None</td>\n",
       "      <td>None</td>\n",
       "      <td>None</td>\n",
       "    </tr>\n",
       "  </tbody>\n",
       "</table>\n",
       "</div>"
      ],
      "text/plain": [
       "  PublicationDate                           Doi                   Pii  \\\n",
       "0            1985  10.1016/0261-5614(85)90183-9  0261-5614(85)90183-9   \n",
       "\n",
       "                       Eid       DocumentType DocumentSubType  OpenAccess  \\\n",
       "0  1-s2.0-0261561485901839  converted-article             abs       False   \n",
       "\n",
       "  License FirstAuthorSurname FirstAuthorInitial ArticleID copyright  \\\n",
       "0                                                85901839      None   \n",
       "\n",
       "                Title keywords graphical_abstract author_highlights  \\\n",
       "0  7th ESPEN Congress                        None              None   \n",
       "\n",
       "  author_abstract  \n",
       "0            None  "
      ]
     },
     "execution_count": 86,
     "metadata": {},
     "output_type": "execute_result"
    }
   ],
   "source": [
    "Parser.parse_article_coreinfo(contentsEntryOnly_xml)\n"
   ]
  },
  {
   "cell_type": "code",
   "execution_count": 87,
   "metadata": {},
   "outputs": [
    {
     "data": {
      "text/html": [
       "<div>\n",
       "<style scoped>\n",
       "    .dataframe tbody tr th:only-of-type {\n",
       "        vertical-align: middle;\n",
       "    }\n",
       "\n",
       "    .dataframe tbody tr th {\n",
       "        vertical-align: top;\n",
       "    }\n",
       "\n",
       "    .dataframe thead th {\n",
       "        text-align: right;\n",
       "    }\n",
       "</style>\n",
       "<table border=\"1\" class=\"dataframe\">\n",
       "  <thead>\n",
       "    <tr style=\"text-align: right;\">\n",
       "      <th></th>\n",
       "    </tr>\n",
       "  </thead>\n",
       "  <tbody>\n",
       "  </tbody>\n",
       "</table>\n",
       "</div>"
      ],
      "text/plain": [
       "Empty DataFrame\n",
       "Columns: []\n",
       "Index: []"
      ]
     },
     "execution_count": 87,
     "metadata": {},
     "output_type": "execute_result"
    }
   ],
   "source": [
    "Parser.parse_authors_info(contentsEntryOnly_xml)\n"
   ]
  },
  {
   "cell_type": "code",
   "execution_count": 88,
   "metadata": {},
   "outputs": [
    {
     "data": {
      "text/html": [
       "<div>\n",
       "<style scoped>\n",
       "    .dataframe tbody tr th:only-of-type {\n",
       "        vertical-align: middle;\n",
       "    }\n",
       "\n",
       "    .dataframe tbody tr th {\n",
       "        vertical-align: top;\n",
       "    }\n",
       "\n",
       "    .dataframe thead th {\n",
       "        text-align: right;\n",
       "    }\n",
       "</style>\n",
       "<table border=\"1\" class=\"dataframe\">\n",
       "  <thead>\n",
       "    <tr style=\"text-align: right;\">\n",
       "      <th></th>\n",
       "    </tr>\n",
       "  </thead>\n",
       "  <tbody>\n",
       "  </tbody>\n",
       "</table>\n",
       "</div>"
      ],
      "text/plain": [
       "Empty DataFrame\n",
       "Columns: []\n",
       "Index: []"
      ]
     },
     "execution_count": 88,
     "metadata": {},
     "output_type": "execute_result"
    }
   ],
   "source": [
    "Parser.parse_figures_info(contentsEntryOnly_xml)\n"
   ]
  },
  {
   "cell_type": "code",
   "execution_count": 89,
   "metadata": {},
   "outputs": [
    {
     "data": {
      "text/plain": [
       "[]"
      ]
     },
     "execution_count": 89,
     "metadata": {},
     "output_type": "execute_result"
    }
   ],
   "source": [
    "Parser.parse_tables_info(contentsEntryOnly_xml)\n"
   ]
  },
  {
   "cell_type": "code",
   "execution_count": 90,
   "metadata": {},
   "outputs": [
    {
     "data": {
      "text/html": [
       "<div>\n",
       "<style scoped>\n",
       "    .dataframe tbody tr th:only-of-type {\n",
       "        vertical-align: middle;\n",
       "    }\n",
       "\n",
       "    .dataframe tbody tr th {\n",
       "        vertical-align: top;\n",
       "    }\n",
       "\n",
       "    .dataframe thead th {\n",
       "        text-align: right;\n",
       "    }\n",
       "</style>\n",
       "<table border=\"1\" class=\"dataframe\">\n",
       "  <thead>\n",
       "    <tr style=\"text-align: right;\">\n",
       "      <th></th>\n",
       "    </tr>\n",
       "  </thead>\n",
       "  <tbody>\n",
       "  </tbody>\n",
       "</table>\n",
       "</div>"
      ],
      "text/plain": [
       "Empty DataFrame\n",
       "Columns: []\n",
       "Index: []"
      ]
     },
     "execution_count": 90,
     "metadata": {},
     "output_type": "execute_result"
    }
   ],
   "source": [
    "Parser.parse_references_info(contentsEntryOnly_xml)\n"
   ]
  },
  {
   "cell_type": "code",
   "execution_count": 91,
   "metadata": {},
   "outputs": [
    {
     "data": {
      "text/html": [
       "<div>\n",
       "<style scoped>\n",
       "    .dataframe tbody tr th:only-of-type {\n",
       "        vertical-align: middle;\n",
       "    }\n",
       "\n",
       "    .dataframe tbody tr th {\n",
       "        vertical-align: top;\n",
       "    }\n",
       "\n",
       "    .dataframe thead th {\n",
       "        text-align: right;\n",
       "    }\n",
       "</style>\n",
       "<table border=\"1\" class=\"dataframe\">\n",
       "  <thead>\n",
       "    <tr style=\"text-align: right;\">\n",
       "      <th></th>\n",
       "      <th>eid</th>\n",
       "      <th>url</th>\n",
       "      <th>filename</th>\n",
       "      <th>filetype</th>\n",
       "      <th>filesize</th>\n",
       "      <th>attachment_type</th>\n",
       "    </tr>\n",
       "  </thead>\n",
       "  <tbody>\n",
       "    <tr>\n",
       "      <th>0</th>\n",
       "      <td>1-s2.0-0261561485901839-si1.gif</td>\n",
       "      <td>https://s3.amazonaws.com/prod-ucs-content-stor...</td>\n",
       "      <td>si1.gif</td>\n",
       "      <td>gif</td>\n",
       "      <td>463</td>\n",
       "      <td>ALTIMG</td>\n",
       "    </tr>\n",
       "  </tbody>\n",
       "</table>\n",
       "</div>"
      ],
      "text/plain": [
       "                               eid  \\\n",
       "0  1-s2.0-0261561485901839-si1.gif   \n",
       "\n",
       "                                                 url filename filetype  \\\n",
       "0  https://s3.amazonaws.com/prod-ucs-content-stor...  si1.gif      gif   \n",
       "\n",
       "   filesize attachment_type  \n",
       "0       463          ALTIMG  "
      ]
     },
     "execution_count": 91,
     "metadata": {},
     "output_type": "execute_result"
    }
   ],
   "source": [
    "Parser.parse_allAttachment_info(contentsEntryOnly_xml)\n"
   ]
  },
  {
   "cell_type": "code",
   "execution_count": 92,
   "metadata": {},
   "outputs": [
    {
     "data": {
      "text/html": [
       "<div>\n",
       "<style scoped>\n",
       "    .dataframe tbody tr th:only-of-type {\n",
       "        vertical-align: middle;\n",
       "    }\n",
       "\n",
       "    .dataframe tbody tr th {\n",
       "        vertical-align: top;\n",
       "    }\n",
       "\n",
       "    .dataframe thead th {\n",
       "        text-align: right;\n",
       "    }\n",
       "</style>\n",
       "<table border=\"1\" class=\"dataframe\">\n",
       "  <thead>\n",
       "    <tr style=\"text-align: right;\">\n",
       "      <th></th>\n",
       "      <th>eid</th>\n",
       "      <th>url</th>\n",
       "      <th>filename</th>\n",
       "      <th>filetype</th>\n",
       "      <th>filesize</th>\n",
       "    </tr>\n",
       "  </thead>\n",
       "  <tbody>\n",
       "    <tr>\n",
       "      <th>0</th>\n",
       "      <td>1-s2.0-0261561485901839-main.pdf</td>\n",
       "      <td>https://s3.amazonaws.com/prod-ucs-content-stor...</td>\n",
       "      <td>main.pdf</td>\n",
       "      <td>pdf</td>\n",
       "      <td>92063</td>\n",
       "    </tr>\n",
       "  </tbody>\n",
       "</table>\n",
       "</div>"
      ],
      "text/plain": [
       "                                eid  \\\n",
       "0  1-s2.0-0261561485901839-main.pdf   \n",
       "\n",
       "                                                 url  filename filetype  \\\n",
       "0  https://s3.amazonaws.com/prod-ucs-content-stor...  main.pdf      pdf   \n",
       "\n",
       "   filesize  \n",
       "0     92063  "
      ]
     },
     "execution_count": 92,
     "metadata": {},
     "output_type": "execute_result"
    }
   ],
   "source": [
    "Parser.parse_webfulltextPDF(contentsEntryOnly_xml)\n"
   ]
  },
  {
   "cell_type": "code",
   "execution_count": 93,
   "metadata": {},
   "outputs": [
    {
     "data": {
      "text/html": [
       "<div>\n",
       "<style scoped>\n",
       "    .dataframe tbody tr th:only-of-type {\n",
       "        vertical-align: middle;\n",
       "    }\n",
       "\n",
       "    .dataframe tbody tr th {\n",
       "        vertical-align: top;\n",
       "    }\n",
       "\n",
       "    .dataframe thead th {\n",
       "        text-align: right;\n",
       "    }\n",
       "</style>\n",
       "<table border=\"1\" class=\"dataframe\">\n",
       "  <thead>\n",
       "    <tr style=\"text-align: right;\">\n",
       "      <th></th>\n",
       "      <th>eid</th>\n",
       "      <th>url</th>\n",
       "      <th>filename</th>\n",
       "      <th>filetype</th>\n",
       "      <th>filesize</th>\n",
       "    </tr>\n",
       "  </thead>\n",
       "  <tbody>\n",
       "    <tr>\n",
       "      <th>0</th>\n",
       "      <td>1-s2.0-0261561485901839-main_1.png</td>\n",
       "      <td>https://s3-eu-west-1.amazonaws.com/prod-ucs-co...</td>\n",
       "      <td>main_1.png</td>\n",
       "      <td>png</td>\n",
       "      <td>79357</td>\n",
       "    </tr>\n",
       "  </tbody>\n",
       "</table>\n",
       "</div>"
      ],
      "text/plain": [
       "                                  eid  \\\n",
       "0  1-s2.0-0261561485901839-main_1.png   \n",
       "\n",
       "                                                 url    filename filetype  \\\n",
       "0  https://s3-eu-west-1.amazonaws.com/prod-ucs-co...  main_1.png      png   \n",
       "\n",
       "   filesize  \n",
       "0     79357  "
      ]
     },
     "execution_count": 93,
     "metadata": {},
     "output_type": "execute_result"
    }
   ],
   "source": [
    "Parser.parse_webfulltextIMG(contentsEntryOnly_xml)\n"
   ]
  },
  {
   "cell_type": "code",
   "execution_count": 94,
   "metadata": {},
   "outputs": [
    {
     "data": {
      "text/html": [
       "<div>\n",
       "<style scoped>\n",
       "    .dataframe tbody tr th:only-of-type {\n",
       "        vertical-align: middle;\n",
       "    }\n",
       "\n",
       "    .dataframe tbody tr th {\n",
       "        vertical-align: top;\n",
       "    }\n",
       "\n",
       "    .dataframe thead th {\n",
       "        text-align: right;\n",
       "    }\n",
       "</style>\n",
       "<table border=\"1\" class=\"dataframe\">\n",
       "  <thead>\n",
       "    <tr style=\"text-align: right;\">\n",
       "      <th></th>\n",
       "    </tr>\n",
       "  </thead>\n",
       "  <tbody>\n",
       "  </tbody>\n",
       "</table>\n",
       "</div>"
      ],
      "text/plain": [
       "Empty DataFrame\n",
       "Columns: []\n",
       "Index: []"
      ]
     },
     "execution_count": 94,
     "metadata": {},
     "output_type": "execute_result"
    }
   ],
   "source": [
    "Parser.parse_fundings_info(contentsEntryOnly_xml)\n"
   ]
  },
  {
   "cell_type": "code",
   "execution_count": 95,
   "metadata": {},
   "outputs": [
    {
     "data": {
      "text/html": [
       "<div>\n",
       "<style scoped>\n",
       "    .dataframe tbody tr th:only-of-type {\n",
       "        vertical-align: middle;\n",
       "    }\n",
       "\n",
       "    .dataframe tbody tr th {\n",
       "        vertical-align: top;\n",
       "    }\n",
       "\n",
       "    .dataframe thead th {\n",
       "        text-align: right;\n",
       "    }\n",
       "</style>\n",
       "<table border=\"1\" class=\"dataframe\">\n",
       "  <thead>\n",
       "    <tr style=\"text-align: right;\">\n",
       "      <th></th>\n",
       "      <th>raw_text</th>\n",
       "    </tr>\n",
       "  </thead>\n",
       "  <tbody>\n",
       "    <tr>\n",
       "      <th>0</th>\n",
       "      <td>0.127 APPLICATIONS OF STABLE ISOTOPES AND MASS...</td>\n",
       "    </tr>\n",
       "  </tbody>\n",
       "</table>\n",
       "</div>"
      ],
      "text/plain": [
       "                                            raw_text\n",
       "0  0.127 APPLICATIONS OF STABLE ISOTOPES AND MASS..."
      ]
     },
     "execution_count": 95,
     "metadata": {},
     "output_type": "execute_result"
    }
   ],
   "source": [
    "Parser.parse_fulltext_info(contentsEntryOnly_xml)"
   ]
  }
 ],
 "metadata": {
  "kernelspec": {
   "display_name": "base",
   "language": "python",
   "name": "python3"
  },
  "language_info": {
   "codemirror_mode": {
    "name": "ipython",
    "version": 3
   },
   "file_extension": ".py",
   "mimetype": "text/x-python",
   "name": "python",
   "nbconvert_exporter": "python",
   "pygments_lexer": "ipython3",
   "version": "3.12.9"
  }
 },
 "nbformat": 4,
 "nbformat_minor": 2
}
